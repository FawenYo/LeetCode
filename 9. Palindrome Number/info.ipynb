{
 "cells": [
  {
   "cell_type": "markdown",
   "metadata": {},
   "source": [
    "## Question\n",
    "\n",
    "Given an integer $x$, return true if $x$ is palindrome integer.\n",
    "\n",
    "An integer is a **palindrome** when it reads the same backward as forward. For example, $121$ is palindrome while $123$ is not.\n",
    "\n",
    "## Examples\n",
    "\n",
    "### Example 1:\n",
    "\n",
    "```shell\n",
    "Input: x = 121\n",
    "Output: true\n",
    "```\n",
    "\n",
    "### Example 2:\n",
    "\n",
    "```shell\n",
    "Input: x = -121\n",
    "Output: false\n",
    "Explanation: From left to right, it reads -121. From right to left, it becomes 121-. Therefore it is not a palindrome.\n",
    "```\n",
    "\n",
    "### Example 3:\n",
    "\n",
    "```shell\n",
    "Input: x = 10\n",
    "Output: false\n",
    "Explanation: Reads 01 from right to left. Therefore it is not a palindrome.\n",
    "```\n",
    "\n",
    "### Example 4:\n",
    "\n",
    "```shell\n",
    "Input: x = -101\n",
    "Output: false\n",
    "```\n",
    "\n",
    "## Constraints:\n",
    "\n",
    "* $-2^{31} \\leq x \\leq 2^{31} - 1$\n",
    "\n",
    "**Follow up**: Could you solve it without converting the integer to a string?"
   ]
  },
  {
   "cell_type": "markdown",
   "metadata": {},
   "source": [
    "## Answer\n",
    "\n",
    "With string: 反轉 $x$ 並比對是否相同\n",
    "\n",
    "Without string: 透過餘數抓最後一個數值，反轉後比對是否相同"
   ]
  },
  {
   "cell_type": "code",
   "execution_count": null,
   "metadata": {},
   "outputs": [],
   "source": [
    "# With string version\n",
    "class Solution:\n",
    "    def isPalindrome(self, x: int) -> bool:\n",
    "        input_data = str(x)\n",
    "        return input_data[::-1] == input_data\n",
    "\n",
    "\n",
    "# Without string version\n",
    "class Solution:\n",
    "    def isPalindrome(self, x: int) -> bool:\n",
    "        origin = x\n",
    "        reverse = 0\n",
    "        if x < 0:\n",
    "            return False\n",
    "        else:\n",
    "            while x > 0:\n",
    "                last_number = x % 10\n",
    "                reverse = reverse * 10 + last_number\n",
    "                x = x // 10\n",
    "            if origin == reverse:\n",
    "                return True\n",
    "            else:\n",
    "                return False\n"
   ]
  }
 ],
 "metadata": {
  "kernelspec": {
   "display_name": "Python 3",
   "language": "python",
   "name": "python3"
  },
  "language_info": {
   "codemirror_mode": {
    "name": "ipython",
    "version": 3
   },
   "file_extension": ".py",
   "mimetype": "text/x-python",
   "name": "python",
   "nbconvert_exporter": "python",
   "pygments_lexer": "ipython3",
   "version": "3.8.3"
  }
 },
 "nbformat": 4,
 "nbformat_minor": 2
}