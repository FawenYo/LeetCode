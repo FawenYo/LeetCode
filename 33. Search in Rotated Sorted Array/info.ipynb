{
 "metadata": {
  "language_info": {
   "codemirror_mode": {
    "name": "ipython",
    "version": 3
   },
   "file_extension": ".py",
   "mimetype": "text/x-python",
   "name": "python",
   "nbconvert_exporter": "python",
   "pygments_lexer": "ipython3",
   "version": 3
  },
  "orig_nbformat": 2
 },
 "nbformat": 4,
 "nbformat_minor": 2,
 "cells": [
  {
   "source": [
    "## Question\n",
    "\n",
    "There is an integer array `` nums `` sorted in ascending order (with __distinct__ values).\n",
    "\n",
    "Prior to being passed to your function, <code> nums `` is __rotated__ at an unknown pivot index `` k `` (`` 0 &lt;= k &lt; nums.length ``) such that the resulting array is `` [nums[k], nums[k+1], ..., nums[n-1], nums[0], nums[1], ..., nums[k-1]] `` (__0-indexed__). For example, `` [0,1,2,4,5,6,7] `` might be rotated at pivot index `` 3 `` and become `` [4,5,6,7,0,1,2] </code>.\n",
    "\n",
    "Given the array `` nums `` __after__ the rotation and an integer `` target ``, return _the index of _`` target ``_ if it is in _`` nums ``_, or _`` -1 ``_ if it is not in _`` nums ``.\n",
    "\n",
    "&nbsp;\n",
    "\n",
    "__Example 1:__\n",
    "\n",
    "<pre><strong>Input:</strong> nums = [4,5,6,7,0,1,2], target = 0\n",
    "<strong>Output:</strong> 4\n",
    "</pre>\n",
    "\n",
    "__Example 2:__\n",
    "\n",
    "<pre><strong>Input:</strong> nums = [4,5,6,7,0,1,2], target = 3\n",
    "<strong>Output:</strong> -1\n",
    "</pre>\n",
    "\n",
    "__Example 3:__\n",
    "\n",
    "<pre><strong>Input:</strong> nums = [1], target = 0\n",
    "<strong>Output:</strong> -1\n",
    "</pre>\n",
    "\n",
    "&nbsp;\n",
    "\n",
    "__Constraints:__\n",
    "\n",
    "* <code> 1 &lt;= nums.length &lt;= 5000 </code>\n",
    "* <code>-10<sup>4</sup> &lt;= nums[i] &lt;= 10<sup>4</sup></code>\n",
    "* All values of `` nums `` are __unique__.\n",
    "* `` nums `` is guaranteed to be rotated at some pivot.\n",
    "* <code>-10<sup>4</sup> &lt;= target &lt;= 10<sup>4</sup></code>\n",
    "\n",
    "&nbsp;\n",
    "__Follow up:__ Can you achieve this in `` O(log n) `` time complexity?"
   ],
   "cell_type": "markdown",
   "metadata": {}
  },
  {
   "source": [
    "## Answer\n",
    "\n",
    "這題當初在寫用了比較偷吃步(？)的方式，直接用index的方式去找，實際上應該用binary search的方式解題，不過因為期中考中太累(懶)就沒改了"
   ],
   "cell_type": "markdown",
   "metadata": {}
  },
  {
   "cell_type": "code",
   "execution_count": null,
   "metadata": {},
   "outputs": [],
   "source": [
    "class Solution:\n",
    "    def search(self, nums: List[int], target: int) -> int:\n",
    "        if target in nums:\n",
    "            return nums.index(target)\n",
    "        else:\n",
    "            return -1\n"
   ]
  }
 ]
}