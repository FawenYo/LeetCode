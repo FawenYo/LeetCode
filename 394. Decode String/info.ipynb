{
 "metadata": {
  "language_info": {
   "codemirror_mode": {
    "name": "ipython",
    "version": 3
   },
   "file_extension": ".py",
   "mimetype": "text/x-python",
   "name": "python",
   "nbconvert_exporter": "python",
   "pygments_lexer": "ipython3",
   "version": 3
  },
  "orig_nbformat": 2
 },
 "nbformat": 4,
 "nbformat_minor": 2,
 "cells": [
  {
   "source": [
    "## Question\n",
    "\n",
    "Given an encoded string, return its decoded string.\n",
    "\n",
    "The encoding rule is: `` k[encoded_string] ``, where the `` encoded_string `` inside the square brackets is being repeated exactly `` k `` times. Note that `` k `` is guaranteed to be a positive integer.\n",
    "\n",
    "You may assume that the input string is always valid; No extra white spaces, square brackets are well-formed, etc.\n",
    "\n",
    "Furthermore, you may assume that the original data does not contain any digits and that digits are only for those repeat numbers, `` k ``. For example, there won't be input like `` 3a `` or `` 2[4] ``.\n",
    "\n",
    "&nbsp;\n",
    "\n",
    "__Example 1:__\n",
    "\n",
    "<pre><strong>Input:</strong> s = \"3[a]2[bc]\"\n",
    "<strong>Output:</strong> \"aaabcbc\"\n",
    "</pre>\n",
    "\n",
    "__Example 2:__\n",
    "\n",
    "<pre><strong>Input:</strong> s = \"3[a2[c]]\"\n",
    "<strong>Output:</strong> \"accaccacc\"\n",
    "</pre>\n",
    "\n",
    "__Example 3:__\n",
    "\n",
    "<pre><strong>Input:</strong> s = \"2[abc]3[cd]ef\"\n",
    "<strong>Output:</strong> \"abcabccdcdcdef\"\n",
    "</pre>\n",
    "\n",
    "__Example 4:__\n",
    "\n",
    "<pre><strong>Input:</strong> s = \"abc3[cd]xyz\"\n",
    "<strong>Output:</strong> \"abccdcdcdxyz\"\n",
    "</pre>\n",
    "\n",
    "&nbsp;\n",
    "\n",
    "__Constraints:__\n",
    "\n",
    "* <code> 1 &lt;= s.length &lt;= 30 </code>\n",
    "* `` s `` consists of lowercase English letters, digits, and square brackets `` '[]' ``.\n",
    "* `` s `` is guaranteed to be __a valid__ input.\n",
    "* All the integers in `` s `` are in the range `` [1, 300] ``."
   ],
   "cell_type": "markdown",
   "metadata": {}
  },
  {
   "source": [
    "## Answer\n",
    "\n",
    "每次遇到 `[` 便將 `目前的結果` 和 `重複次數` 移入list內，待子字串結束時將內容加回至結果中"
   ],
   "cell_type": "markdown",
   "metadata": {}
  },
  {
   "cell_type": "code",
   "execution_count": null,
   "metadata": {},
   "outputs": [],
   "source": [
    "class Solution:\n",
    "    def decodeString(self, s: str) -> str:\n",
    "        repeat_times = 0\n",
    "        string = \"\"\n",
    "        memory = []\n",
    "        for character in s:\n",
    "            # Repeat times\n",
    "            if character.isdigit():\n",
    "                repeat_times = repeat_times * 10 + int(character)\n",
    "            # Sub string start\n",
    "            elif character == \"[\":\n",
    "                # Move repeat times & current string into memory\n",
    "                memory.append(repeat_times)\n",
    "                memory.append(string)\n",
    "                string = \"\"\n",
    "                repeat_times = 0\n",
    "            elif character.isalpha():\n",
    "                string += character\n",
    "            # Sub string end\n",
    "            elif character == \"]\":\n",
    "                previous_string = memory.pop()\n",
    "                previous_times = memory.pop()\n",
    "                string = previous_string + previous_times * string\n",
    "        return string\n"
   ]
  }
 ]
}