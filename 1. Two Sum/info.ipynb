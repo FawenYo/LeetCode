{
 "cells": [
  {
   "cell_type": "markdown",
   "metadata": {},
   "source": [
    "## Question\n",
    "\n",
    "Given an array of integers `` nums ``&nbsp;and an integer `` target ``, return _indices of the two numbers such that they add up to `` target ``_.\n",
    "\n",
    "You may assume that each input would have ___exactly_ one solution__, and you may not use the _same_ element twice.\n",
    "\n",
    "You can return the answer in any order.\n",
    "\n",
    "&nbsp;\n",
    "\n",
    "__Example 1:__\n",
    "\n",
    "<pre>\n",
    "<strong>Input:</strong> nums = [2,7,11,15], target = 9\n",
    "<strong>Output:</strong> [0,1]\n",
    "<strong>Output:</strong> Because nums[0] + nums[1] == 9, we return [0, 1].\n",
    "</pre>\n",
    "\n",
    "__Example 2:__\n",
    "\n",
    "<pre>\n",
    "<strong>Input:</strong> nums = [3,2,4], target = 6\n",
    "<strong>Output:</strong> [1,2]\n",
    "</pre>\n",
    "\n",
    "__Example 3:__\n",
    "\n",
    "<pre>\n",
    "<strong>Input:</strong> nums = [3,3], target = 6\n",
    "<strong>Output:</strong> [0,1]\n",
    "</pre>\n",
    "\n",
    "&nbsp;\n",
    "\n",
    "__Constraints:__\n",
    "\n",
    "* <code>2 &lt;= nums.length &lt;= 10<sup>3</sup></code>\n",
    "* <code>-10<sup>9</sup> &lt;= nums[i] &lt;= 10<sup>9</sup></code>\n",
    "* <code>-10<sup>9</sup> &lt;= target &lt;= 10<sup>9</sup></code>\n",
    "* __Only one valid answer exists.__"
   ]
  },
  {
   "cell_type": "markdown",
   "metadata": {},
   "source": [
    "## Answer\n",
    "\n",
    "遍歷 $nums$，看殘值是否存在於 $nums$ 中，"
   ]
  },
  {
   "cell_type": "code",
   "execution_count": null,
   "metadata": {},
   "outputs": [],
   "source": [
    "class Solution:\n",
    "    def twoSum(self, nums: List[int], target: int) -> List[int]:\n",
    "        for index, value in enumerate(nums):\n",
    "            remain_value = target - value\n",
    "            # Search if remain_value exist in remaining list\n",
    "            if remain_value in nums[index + 1 :]:\n",
    "                # +1 for remain\n",
    "                remain_index = index + 1 + nums[index + 1 :].index(remain_value)\n",
    "                return [index, remain_index]\n",
    "        return []\n"
   ]
  }
 ],
 "metadata": {
  "kernelspec": {
   "display_name": "Python 3",
   "language": "python",
   "name": "python3"
  },
  "language_info": {
   "codemirror_mode": {
    "name": "ipython",
    "version": 3
   },
   "file_extension": ".py",
   "mimetype": "text/x-python",
   "name": "python",
   "nbconvert_exporter": "python",
   "pygments_lexer": "ipython3",
   "version": "3.8.3"
  }
 },
 "nbformat": 4,
 "nbformat_minor": 2
}