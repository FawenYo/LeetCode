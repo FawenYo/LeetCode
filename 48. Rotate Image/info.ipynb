{
 "cells": [
  {
   "cell_type": "markdown",
   "metadata": {},
   "source": [
    "## Question\n",
    "\n",
    "You are given an _n_ x _n_ 2D `` matrix `` representing an image, rotate the image by 90 degrees (clockwise).\n",
    "\n",
    "You have to rotate the image <a href=\"https://en.wikipedia.org/wiki/In-place_algorithm\" target=\"_blank\">__in-place__</a>, which means you have to modify the input 2D matrix directly. __DO NOT__ allocate another 2D matrix and do the rotation.\n",
    "\n",
    "&nbsp;\n",
    "\n",
    "__Example 1:__\n",
    "\n",
    "<img alt=\"\" src=\"https://assets.leetcode.com/uploads/2020/08/28/mat1.jpg\" style=\"width: 642px; height: 242px;\"/>\n",
    "\n",
    "<pre>\n",
    "<strong>Input:</strong> matrix = [[1,2,3],[4,5,6],[7,8,9]]\n",
    "<strong>Output:</strong> [[7,4,1],[8,5,2],[9,6,3]]\n",
    "</pre>\n",
    "\n",
    "__Example 2:__\n",
    "\n",
    "<img alt=\"\" src=\"https://assets.leetcode.com/uploads/2020/08/28/mat2.jpg\" style=\"width: 800px; height: 321px;\"/>\n",
    "\n",
    "<pre>\n",
    "<strong>Input:</strong> matrix = [[5,1,9,11],[2,4,8,10],[13,3,6,7],[15,14,12,16]]\n",
    "<strong>Output:</strong> [[15,13,2,5],[14,3,4,1],[12,6,8,9],[16,7,10,11]]\n",
    "</pre>\n",
    "\n",
    "__Example 3:__\n",
    "\n",
    "<pre>\n",
    "<strong>Input:</strong> matrix = [[1]]\n",
    "<strong>Output:</strong> [[1]]\n",
    "</pre>\n",
    "\n",
    "__Example 4:__\n",
    "\n",
    "<pre>\n",
    "<strong>Input:</strong> matrix = [[1,2],[3,4]]\n",
    "<strong>Output:</strong> [[3,1],[4,2]]\n",
    "</pre>\n",
    "\n",
    "&nbsp;\n",
    "\n",
    "__Constraints:__\n",
    "\n",
    "* `` matrix.length == n ``\n",
    "* `` matrix[i].length == n ``\n",
    "* <code> 1 &lt;= n &lt;= 20 </code>\n",
    "* <code> -1000 &lt;= matrix[i][j] &lt;= 1000 </code>"
   ]
  },
  {
   "cell_type": "markdown",
   "metadata": {},
   "source": [
    "## Answer\n",
    "\n",
    "本題要翻轉矩陣，需要具備線性代數的基本概念 (我沒有QwQ)\n",
    "\n",
    "在這邊分享看到其他人解題的方法，只需要兩步驟即可解決：\n",
    "\n",
    "1. 將矩陣中`row 和 column 的數值對調`\n",
    "2. 將`每一個row的數值前後對調`，即可完成90度翻轉\n",
    "\n",
    "圖像解說： ![解說影片](https://i.imgur.com/HzN4QvK.gif)"
   ]
  },
  {
   "cell_type": "code",
   "execution_count": null,
   "metadata": {},
   "outputs": [],
   "source": [
    "class Solution:\n",
    "    def rotate(self, matrix: List[List[int]]) -> None:\n",
    "        \"\"\"\n",
    "        Do not return anything, modify matrix in-place instead.\n",
    "        \"\"\"\n",
    "        # Transpose the Matrix\n",
    "        for i in range(len(matrix)):\n",
    "            for j in range(i, len(matrix)):\n",
    "                matrix[i][j], matrix[j][i] = matrix[j][i], matrix[i][j]\n",
    "\n",
    "        # Reverse each row\n",
    "        for i in range(len(matrix)):\n",
    "            row_length = len(matrix[i]) - 1\n",
    "            for j in range(row_length):\n",
    "                if j * 2 > row_length:\n",
    "                    break\n",
    "                matrix[i][j], matrix[i][row_length - j] = (\n",
    "                    matrix[i][row_length - j],\n",
    "                    matrix[i][j],\n",
    "                )\n"
   ]
  }
 ],
 "metadata": {
  "kernelspec": {
   "display_name": "Python 3",
   "language": "python",
   "name": "python3"
  },
  "language_info": {
   "codemirror_mode": {
    "name": "ipython",
    "version": 3
   },
   "file_extension": ".py",
   "mimetype": "text/x-python",
   "name": "python",
   "nbconvert_exporter": "python",
   "pygments_lexer": "ipython3",
   "version": "3.8.3"
  }
 },
 "nbformat": 4,
 "nbformat_minor": 2
}
