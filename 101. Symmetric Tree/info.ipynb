{
 "cells": [
  {
   "cell_type": "markdown",
   "metadata": {},
   "source": [
    "## Question\n",
    "\n",
    "Given the `` root `` of a binary tree, _check whether it is a mirror of itself_ (i.e., symmetric around its center).\n",
    "\n",
    "&nbsp;\n",
    "\n",
    "__Example 1:__\n",
    "\n",
    "<img alt=\"\" src=\"https://assets.leetcode.com/uploads/2021/02/19/symtree1.jpg\" style=\"width: 354px; height: 291px;\"/>\n",
    "\n",
    "<pre>\n",
    "<strong>Input:</strong> root = [1,2,2,3,4,4,3]\n",
    "<strong>Output:</strong> true\n",
    "</pre>\n",
    "\n",
    "__Example 2:__\n",
    "\n",
    "<img alt=\"\" src=\"https://assets.leetcode.com/uploads/2021/02/19/symtree2.jpg\" style=\"width: 308px; height: 258px;\"/>\n",
    "\n",
    "<pre>\n",
    "<strong>Input:</strong> root = [1,2,2,null,3,null,3]\n",
    "<strong>Output:</strong> false\n",
    "</pre>\n",
    "\n",
    "&nbsp;\n",
    "\n",
    "__Constraints:__\n",
    "\n",
    "* The number of nodes in the tree is in the range `` [1, 1000] ``.\n",
    "* <code> -100 &lt;= Node.val &lt;= 100 </code>\n",
    "\n",
    "&nbsp;\n",
    "__Follow up:__ Could you solve it both recursively and iteratively?"
   ]
  },
  {
   "cell_type": "markdown",
   "source": [
    "## Answer\n",
    "\n",
    "Iteration (迭代): 迴圈重複執行\n",
    "\n",
    "Recursive (遞迴): 重複呼叫 function\n",
    "\n",
    "此處使用遞迴方式，檢查左右是否相同"
   ],
   "metadata": {
    "collapsed": false,
    "pycharm": {
     "name": "#%% md\n"
    }
   }
  },
  {
   "cell_type": "code",
   "execution_count": null,
   "outputs": [],
   "source": [
    "# Recursive method\n",
    "class Solution:\n",
    "    def isSymmetric(self, root: TreeNode) -> bool:\n",
    "        if not root:\n",
    "            return True\n",
    "\n",
    "        def is_symmetric_tree(left: TreeNode, right: TreeNode):\n",
    "            # Both left and right are not None and have same value\n",
    "            if left and right and left.val == right.val:\n",
    "                return is_symmetric_tree(\n",
    "                    left=left.left, right=right.right\n",
    "                ) and is_symmetric_tree(left=left.right, right=right.left)\n",
    "            else:\n",
    "                return left == right\n",
    "\n",
    "        return is_symmetric_tree(left=root.left, right=root.right)\n"
   ],
   "metadata": {
    "collapsed": false,
    "pycharm": {
     "name": "#%%\n"
    }
   }
  }
 ],
 "metadata": {
  "kernelspec": {
   "display_name": "Python 3",
   "language": "python",
   "name": "python3"
  },
  "language_info": {
   "codemirror_mode": {
    "name": "ipython",
    "version": 3
   },
   "file_extension": ".py",
   "mimetype": "text/x-python",
   "name": "python",
   "nbconvert_exporter": "python",
   "pygments_lexer": "ipython3",
   "version": "3.8.3"
  }
 },
 "nbformat": 4,
 "nbformat_minor": 1
}