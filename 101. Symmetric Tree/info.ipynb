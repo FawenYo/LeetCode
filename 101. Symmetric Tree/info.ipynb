{
 "cells": [
  {
   "cell_type": "markdown",
   "metadata": {},
   "source": [
    "## Question\n",
    "\n",
    "Given the `root` of a binary tree, check whether it is a mirror of itself (i.e., symmetric around its center).\n",
    "\n",
    "## Examples\n",
    "\n",
    "### Example 1:\n",
    "\n",
    "![Example Image](https://assets.leetcode.com/uploads/2021/02/19/symtree1.jpg)\n",
    "\n",
    "```shell\n",
    "Input: root = [1,2,2,3,4,4,3]\n",
    "Output: true\n",
    "```\n",
    "\n",
    "### Example 2:\n",
    "\n",
    "![Example Image](https://assets.leetcode.com/uploads/2021/02/19/symtree2.jpg)\n",
    "\n",
    "```shell\n",
    "Input: root = [1,2,2,null,3,null,3]\n",
    "Output: false\n",
    "```\n",
    "\n",
    "## Constraints:\n",
    "\n",
    "* The number of nodes in the tree is in the range $[1, 1000]$.\n",
    "* $-100 \\leq Node.val \\leq 100$\n",
    "\n",
    "**Follow up**: Could you solve it both recursively and iteratively?"
   ]
  },
  {
   "cell_type": "markdown",
   "source": [
    "## Answer\n",
    "\n",
    "(待補齊)"
   ],
   "metadata": {
    "collapsed": false,
    "pycharm": {
     "name": "#%% md\n"
    }
   }
  },
  {
   "cell_type": "code",
   "execution_count": null,
   "outputs": [],
   "source": [
    "# Definition for a binary tree node.\n",
    "class TreeNode:\n",
    "    def __init__(self, val=0, left=None, right=None):\n",
    "        self.val = val\n",
    "        self.left = left\n",
    "        self.right = right\n",
    "\n",
    "\n",
    "class Solution:\n",
    "    def isSymmetric(self, root: TreeNode) -> bool:\n",
    "        if not root:\n",
    "            return True\n",
    "\n",
    "        def is_symmetric_tree(left: TreeNode, right: TreeNode):\n",
    "            # Both left and right are not None and have same value\n",
    "            if left and right and left.val == right.val:\n",
    "                return is_symmetric_tree(\n",
    "                    left=left.left, right=right.right\n",
    "                ) and is_symmetric_tree(left=left.right, right=right.left)\n",
    "            else:\n",
    "                return left == right\n",
    "\n",
    "        return is_symmetric_tree(left=root.left, right=root.right)\n"
   ],
   "metadata": {
    "collapsed": false,
    "pycharm": {
     "name": "#%%\n"
    }
   }
  }
 ],
 "metadata": {
  "kernelspec": {
   "display_name": "Python 3",
   "language": "python",
   "name": "python3"
  },
  "language_info": {
   "codemirror_mode": {
    "name": "ipython",
    "version": 3
   },
   "file_extension": ".py",
   "mimetype": "text/x-python",
   "name": "python",
   "nbconvert_exporter": "python",
   "pygments_lexer": "ipython3",
   "version": "3.8.3"
  }
 },
 "nbformat": 4,
 "nbformat_minor": 1
}