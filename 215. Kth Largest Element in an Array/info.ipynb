{
 "metadata": {
  "language_info": {
   "codemirror_mode": {
    "name": "ipython",
    "version": 3
   },
   "file_extension": ".py",
   "mimetype": "text/x-python",
   "name": "python",
   "nbconvert_exporter": "python",
   "pygments_lexer": "ipython3",
   "version": 3
  },
  "orig_nbformat": 2
 },
 "nbformat": 4,
 "nbformat_minor": 2,
 "cells": [
  {
   "source": [
    "## Question\n",
    "\n",
    "Given an integer array `` nums `` and an integer `` k ``, return _the_ <code>k<sup>th</sup></code> _largest element in the array_.\n",
    "\n",
    "Note that it is the <code>k<sup>th</sup></code> largest element in the sorted order, not the <code>k<sup>th</sup></code> distinct element.\n",
    "\n",
    "&nbsp;\n",
    "\n",
    "__Example 1:__\n",
    "\n",
    "<pre><strong>Input:</strong> nums = [3,2,1,5,6,4], k = 2\n",
    "<strong>Output:</strong> 5\n",
    "</pre>\n",
    "\n",
    "__Example 2:__\n",
    "\n",
    "<pre><strong>Input:</strong> nums = [3,2,3,1,2,4,5,5,6], k = 4\n",
    "<strong>Output:</strong> 4\n",
    "</pre>\n",
    "\n",
    "&nbsp;\n",
    "\n",
    "__Constraints:__\n",
    "\n",
    "* <code>1 &lt;= k &lt;= nums.length &lt;= 10<sup>4</sup></code>\n",
    "* <code>-10<sup>4</sup> &lt;= nums[i] &lt;= 10<sup>4</sup></code>"
   ],
   "cell_type": "markdown",
   "metadata": {}
  },
  {
   "source": [
    "## Answer\n",
    "\n",
    "本題只需將 `nums` 進行排序，就可以找到答案"
   ],
   "cell_type": "markdown",
   "metadata": {}
  },
  {
   "cell_type": "code",
   "execution_count": null,
   "metadata": {},
   "outputs": [],
   "source": [
    "class Solution:\n",
    "    def findKthLargest(self, nums: List[int], k: int) -> int:\n",
    "        nums.sort(reverse=True)\n",
    "        return nums[k - 1]\n"
   ]
  }
 ]
}