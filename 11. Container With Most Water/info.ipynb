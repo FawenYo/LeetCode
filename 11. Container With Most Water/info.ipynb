{
 "metadata": {
  "language_info": {
   "codemirror_mode": {
    "name": "ipython",
    "version": 3
   },
   "file_extension": ".py",
   "mimetype": "text/x-python",
   "name": "python",
   "nbconvert_exporter": "python",
   "pygments_lexer": "ipython3",
   "version": 3
  },
  "orig_nbformat": 2
 },
 "nbformat": 4,
 "nbformat_minor": 2,
 "cells": [
  {
   "source": [
    "## Question\n",
    "\n",
    "Given `` n `` non-negative integers <code>a<sub>1</sub>, a<sub>2</sub>, ..., a<sub>n</sub></code><sub> </sub>, where each represents a point at coordinate <code>(i, a<sub>i</sub>)</code>. `` n `` vertical lines are drawn such that the two endpoints of the line `` i `` is at <code>(i, a<sub>i</sub>)</code> and `` (i, 0) ``. Find two lines, which, together with the x-axis forms a container, such that the container contains the most water.\n",
    "\n",
    "__Notice__ that you may not slant the container.\n",
    "\n",
    "&nbsp;\n",
    "\n",
    "__Example 1:__\n",
    "\n",
    "<img alt=\"\" src=\"https://s3-lc-upload.s3.amazonaws.com/uploads/2018/07/17/question_11.jpg\" style=\"width: 600px; height: 287px;\"/>\n",
    "\n",
    "<pre>\n",
    "<strong>Input:</strong> height = [1,8,6,2,5,4,8,3,7]\n",
    "<strong>Output:</strong> 49\n",
    "<strong>Explanation:</strong> The above vertical lines are represented by array [1,8,6,2,5,4,8,3,7]. In this case, the max area of water (blue section) the container can contain&nbsp;is 49.\n",
    "</pre>\n",
    "\n",
    "__Example 2:__\n",
    "\n",
    "<pre>\n",
    "<strong>Input:</strong> height = [1,1]\n",
    "<strong>Output:</strong> 1\n",
    "</pre>\n",
    "\n",
    "__Example 3:__\n",
    "\n",
    "<pre>\n",
    "<strong>Input:</strong> height = [4,3,2,1,4]\n",
    "<strong>Output:</strong> 16\n",
    "</pre>\n",
    "\n",
    "__Example 4:__\n",
    "\n",
    "<pre>\n",
    "<strong>Input:</strong> height = [1,2,1]\n",
    "<strong>Output:</strong> 2\n",
    "</pre>\n",
    "\n",
    "&nbsp;\n",
    "\n",
    "__Constraints:__\n",
    "\n",
    "* `` n == height.length ``\n",
    "* <code>2 &lt;= n &lt;= 10<sup>5</sup></code>\n",
    "* <code>0 &lt;= height[i] &lt;= 10<sup>4</sup></code>"
   ],
   "cell_type": "markdown",
   "metadata": {}
  },
  {
   "source": [
    "## Answer\n",
    "\n",
    "本題的關鍵點在固定住較高的點，並逐漸將另外一點內縮，直到兩點交會時便能求得答案"
   ],
   "cell_type": "markdown",
   "metadata": {}
  },
  {
   "cell_type": "code",
   "execution_count": null,
   "metadata": {},
   "outputs": [],
   "source": [
    "class Solution:\n",
    "    def maxArea(self, height: List[int]) -> int:\n",
    "        result = 0\n",
    "        first_point = 0\n",
    "        last_point = len(height) - 1\n",
    "        while first_point != last_point:\n",
    "            if height[first_point] > height[last_point]:\n",
    "                temp = height[last_point] * (last_point - first_point)\n",
    "                if temp > result:\n",
    "                    result = temp\n",
    "                # Move last point inward\n",
    "                last_point -= 1\n",
    "            else:\n",
    "                temp = height[first_point] * (last_point - first_point)\n",
    "                if temp > result:\n",
    "                    result = temp\n",
    "                # Move first point inward\n",
    "                first_point += 1\n",
    "        return result\n"
   ]
  }
 ]
}