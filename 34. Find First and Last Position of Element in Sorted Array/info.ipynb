{
 "metadata": {
  "language_info": {
   "codemirror_mode": {
    "name": "ipython",
    "version": 3
   },
   "file_extension": ".py",
   "mimetype": "text/x-python",
   "name": "python",
   "nbconvert_exporter": "python",
   "pygments_lexer": "ipython3",
   "version": 3
  },
  "orig_nbformat": 2
 },
 "nbformat": 4,
 "nbformat_minor": 2,
 "cells": [
  {
   "source": [
    "## Question\n",
    "\n",
    "Given an array of integers `` nums `` sorted in ascending order, find the starting and ending position of a given `` target `` value.\n",
    "\n",
    "If `` target `` is not found in the array, return `` [-1, -1] ``.\n",
    "\n",
    "You must&nbsp;write an algorithm with&nbsp;`` O(log n) `` runtime complexity.\n",
    "\n",
    "&nbsp;\n",
    "\n",
    "__Example 1:__\n",
    "\n",
    "<pre><strong>Input:</strong> nums = [5,7,7,8,8,10], target = 8\n",
    "<strong>Output:</strong> [3,4]\n",
    "</pre>\n",
    "\n",
    "__Example 2:__\n",
    "\n",
    "<pre><strong>Input:</strong> nums = [5,7,7,8,8,10], target = 6\n",
    "<strong>Output:</strong> [-1,-1]\n",
    "</pre>\n",
    "\n",
    "__Example 3:__\n",
    "\n",
    "<pre><strong>Input:</strong> nums = [], target = 0\n",
    "<strong>Output:</strong> [-1,-1]\n",
    "</pre>\n",
    "\n",
    "&nbsp;\n",
    "\n",
    "__Constraints:__\n",
    "\n",
    "* <code>0 &lt;= nums.length &lt;= 10<sup>5</sup></code>\n",
    "* <code>-10<sup>9</sup>&nbsp;&lt;= nums[i]&nbsp;&lt;= 10<sup>9</sup></code>\n",
    "* `` nums `` is a non-decreasing array.\n",
    "* <code>-10<sup>9</sup>&nbsp;&lt;= target&nbsp;&lt;= 10<sup>9</sup></code>"
   ],
   "cell_type": "markdown",
   "metadata": {}
  },
  {
   "source": [
    "## Answer\n",
    "\n",
    "透過 binary search 方式即可解題"
   ],
   "cell_type": "markdown",
   "metadata": {}
  },
  {
   "cell_type": "code",
   "execution_count": null,
   "metadata": {},
   "outputs": [],
   "source": [
    "class Solution:\n",
    "    def searchRange(self, nums: List[int], target: int) -> List[int]:\n",
    "        start = 0\n",
    "        end = len(nums) - 1\n",
    "        while start <= end:\n",
    "            mid = (start + end) // 2\n",
    "            # Find target\n",
    "            if nums[start] == nums[end] == target:\n",
    "                return [start, end]\n",
    "\n",
    "            if nums[mid] < target:\n",
    "                start = mid + 1\n",
    "            elif nums[mid] > target:\n",
    "                end = mid - 1\n",
    "            else:\n",
    "                if nums[start] != target:\n",
    "                    start += 1\n",
    "                if nums[end] != target:\n",
    "                    end -= 1\n",
    "        # Didn't find target\n",
    "        return [-1, -1]\n"
   ]
  }
 ]
}