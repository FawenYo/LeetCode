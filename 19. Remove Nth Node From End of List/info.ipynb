{
 "metadata": {
  "language_info": {
   "codemirror_mode": {
    "name": "ipython",
    "version": 3
   },
   "file_extension": ".py",
   "mimetype": "text/x-python",
   "name": "python",
   "nbconvert_exporter": "python",
   "pygments_lexer": "ipython3",
   "version": 3
  },
  "orig_nbformat": 2
 },
 "nbformat": 4,
 "nbformat_minor": 2,
 "cells": [
  {
   "source": [
    "## Question\n",
    "\n",
    "Given the `` head `` of a linked list, remove the <code>n<sup>th</sup></code> node from the end of the list and return its head.\n",
    "\n",
    "__Follow up:__&nbsp;Could you do this in one pass?\n",
    "\n",
    "&nbsp;\n",
    "\n",
    "__Example 1:__\n",
    "\n",
    "<img alt=\"\" src=\"https://assets.leetcode.com/uploads/2020/10/03/remove_ex1.jpg\" style=\"width: 542px; height: 222px;\"/>\n",
    "\n",
    "<pre>\n",
    "<strong>Input:</strong> head = [1,2,3,4,5], n = 2\n",
    "<strong>Output:</strong> [1,2,3,5]\n",
    "</pre>\n",
    "\n",
    "__Example 2:__\n",
    "\n",
    "<pre>\n",
    "<strong>Input:</strong> head = [1], n = 1\n",
    "<strong>Output:</strong> []\n",
    "</pre>\n",
    "\n",
    "__Example 3:__\n",
    "\n",
    "<pre>\n",
    "<strong>Input:</strong> head = [1,2], n = 1\n",
    "<strong>Output:</strong> [1]\n",
    "</pre>\n",
    "\n",
    "&nbsp;\n",
    "\n",
    "__Constraints:__\n",
    "\n",
    "* The number of nodes in the list is `` sz ``.\n",
    "* <code> 1 &lt;= sz &lt;= 30 </code>\n",
    "* <code> 0 &lt;= Node.val &lt;= 100 </code>\n",
    "* <code> 1 &lt;= n &lt;= sz </code>"
   ],
   "cell_type": "markdown",
   "metadata": {}
  },
  {
   "source": [
    "## Answer\n",
    "\n",
    "分別建立 `before` 和 `after` 兩個ListNode，`after`先跑n步，當`after`跑到底的時候，`before.next`就是要移除的Node。"
   ],
   "cell_type": "markdown",
   "metadata": {}
  },
  {
   "cell_type": "code",
   "execution_count": null,
   "metadata": {},
   "outputs": [],
   "source": [
    "class Solution:\n",
    "    def removeNthFromEnd(self, head: ListNode, n: int) -> ListNode:\n",
    "        after = before = head\n",
    "        # After = start from nth\n",
    "        for _ in range(n):\n",
    "            after = after.next\n",
    "        if not after:\n",
    "            return head.next\n",
    "        # Got last nth when after ended\n",
    "        while after.next:\n",
    "            after = after.next\n",
    "            before = before.next\n",
    "\n",
    "        before.next = before.next.next\n",
    "        return head\n"
   ]
  }
 ]
}