{
 "metadata": {
  "language_info": {
   "codemirror_mode": {
    "name": "ipython",
    "version": 3
   },
   "file_extension": ".py",
   "mimetype": "text/x-python",
   "name": "python",
   "nbconvert_exporter": "python",
   "pygments_lexer": "ipython3",
   "version": 3
  },
  "orig_nbformat": 2
 },
 "nbformat": 4,
 "nbformat_minor": 2,
 "cells": [
  {
   "source": [
    "## Question\n",
    "\n",
    "Given the `head` of a linked list, remove the $n^{th}$ node from the end of the list and return its head.\n",
    "\n",
    "**Follow up**: Could you do this in one pass?\n",
    "\n",
    "## Examples\n",
    "\n",
    "### Example 1:\n",
    "\n",
    "![Example image](https://assets.leetcode.com/uploads/2020/10/03/remove_ex1.jpg)\n",
    "\n",
    "```shell\n",
    "Input: head = [1,2,3,4,5], n = 2\n",
    "Output: [1,2,3,5]\n",
    "```\n",
    "\n",
    "### Example 2:\n",
    "\n",
    "```shell\n",
    "Input: head = [1], n = 1\n",
    "Output: []\n",
    "```\n",
    "\n",
    "### Example 3:\n",
    "\n",
    "```shell\n",
    "Input: head = [1,2], n = 1\n",
    "Output: [1]\n",
    "```\n",
    "\n",
    "## Constraints:\n",
    "\n",
    "* The number of nodes in the list is `sz`.\n",
    "* $1 \\leq sz \\leq 30$\n",
    "* $0 \\leq Node.val \\leq 100$\n",
    "* $1 \\leq n \\leq sz$"
   ],
   "cell_type": "markdown",
   "metadata": {}
  },
  {
   "source": [
    "## Answer\n",
    "\n",
    "分別建立 `before` 和 `after` 兩個ListNode，`after`先跑n步，當`after`跑到底的時候，`before.next`就是要移除的Node。"
   ],
   "cell_type": "markdown",
   "metadata": {}
  },
  {
   "cell_type": "code",
   "execution_count": null,
   "metadata": {},
   "outputs": [],
   "source": [
    "class Solution:\n",
    "    def removeNthFromEnd(self, head: ListNode, n: int) -> ListNode:\n",
    "        after = before = head\n",
    "        # After = start from nth\n",
    "        for _ in range(n):\n",
    "            after = after.next\n",
    "        if not after:\n",
    "            return head.next\n",
    "        # Got last nth when after ended\n",
    "        while after.next:\n",
    "            after = after.next\n",
    "            before = before.next\n",
    "\n",
    "        before.next = before.next.next\n",
    "        return head\n"
   ]
  }
 ]
}