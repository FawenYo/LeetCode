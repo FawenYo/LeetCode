{
 "metadata": {
  "language_info": {
   "codemirror_mode": {
    "name": "ipython",
    "version": 3
   },
   "file_extension": ".py",
   "mimetype": "text/x-python",
   "name": "python",
   "nbconvert_exporter": "python",
   "pygments_lexer": "ipython3",
   "version": 3
  },
  "orig_nbformat": 2
 },
 "nbformat": 4,
 "nbformat_minor": 2,
 "cells": [
  {
   "source": [
    "## Question\n",
    "\n",
    "Given an integer `` num ``, return _an array of the number of_ `` 1 ``_'s in the binary representation of every number in the range_ `` [0, num] ``.\n",
    "\n",
    "&nbsp;\n",
    "\n",
    "__Example 1:__\n",
    "\n",
    "<pre>\n",
    "<strong>Input:</strong> num = 2\n",
    "<strong>Output:</strong> [0,1,1]\n",
    "<strong>Explanation:</strong>\n",
    "0 --&gt; 0\n",
    "1 --&gt; 1\n",
    "2 --&gt; 10\n",
    "</pre>\n",
    "\n",
    "__Example 2:__\n",
    "\n",
    "<pre>\n",
    "<strong>Input:</strong> num = 5\n",
    "<strong>Output:</strong> [0,1,1,2,1,2]\n",
    "<strong>Explanation:</strong>\n",
    "0 --&gt; 0\n",
    "1 --&gt; 1\n",
    "2 --&gt; 10\n",
    "3 --&gt; 11\n",
    "4 --&gt; 100\n",
    "5 --&gt; 101\n",
    "</pre>\n",
    "\n",
    "&nbsp;\n",
    "\n",
    "__Constraints:__\n",
    "\n",
    "* <code>0 &lt;= num &lt;= 10<sup>5</sup></code>\n",
    "\n",
    "&nbsp;\n",
    "\n",
    "__Follow up:__\n",
    "\n",
    "* It is very easy to come up with a solution with run time `` O(32n) ``. Can you do it in linear time `` O(n) `` and possibly in a single pass?\n",
    "* Could you solve it in `` O(n) `` space complexity?\n",
    "* Can you do it without using any built-in function (i.e., like `` __builtin_popcount `` in C++)?"
   ],
   "cell_type": "markdown",
   "metadata": {}
  },
  {
   "source": [
    "## Answer\n",
    "\n",
    "本題的核心概念只需判斷是否為2的倍數，而我們可以使用移動bit `i >> 1` 的方式更快速地計算"
   ],
   "cell_type": "markdown",
   "metadata": {}
  },
  {
   "cell_type": "code",
   "execution_count": null,
   "metadata": {},
   "outputs": [],
   "source": [
    "class Solution:\n",
    "    def countBits(self, num: int) -> List[int]:\n",
    "        counter = [0]\n",
    "        for i in range(1, num + 1):\n",
    "            # >>: Bit-shifting, same as i // 2\n",
    "            counter.append(counter[i >> 1] + i % 2)\n",
    "        return counter\n"
   ]
  }
 ]
}