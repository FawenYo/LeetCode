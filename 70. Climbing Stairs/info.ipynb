{
 "metadata": {
  "language_info": {
   "codemirror_mode": {
    "name": "ipython",
    "version": 3
   },
   "file_extension": ".py",
   "mimetype": "text/x-python",
   "name": "python",
   "nbconvert_exporter": "python",
   "pygments_lexer": "ipython3",
   "version": 3
  },
  "orig_nbformat": 2
 },
 "nbformat": 4,
 "nbformat_minor": 2,
 "cells": [
  {
   "source": [
    "## Question\n",
    "\n",
    "You are climbing a staircase. It takes `` n `` steps to reach the top.\n",
    "\n",
    "Each time you can either climb `` 1 `` or `` 2 `` steps. In how many distinct ways can you climb to the top?\n",
    "\n",
    "&nbsp;\n",
    "\n",
    "__Example 1:__\n",
    "\n",
    "<pre>\n",
    "<strong>Input:</strong> n = 2\n",
    "<strong>Output:</strong> 2\n",
    "<strong>Explanation:</strong> There are two ways to climb to the top.\n",
    "1. 1 step + 1 step\n",
    "2. 2 steps\n",
    "</pre>\n",
    "\n",
    "__Example 2:__\n",
    "\n",
    "<pre>\n",
    "<strong>Input:</strong> n = 3\n",
    "<strong>Output:</strong> 3\n",
    "<strong>Explanation:</strong> There are three ways to climb to the top.\n",
    "1. 1 step + 1 step + 1 step\n",
    "2. 1 step + 2 steps\n",
    "3. 2 steps + 1 step\n",
    "</pre>\n",
    "\n",
    "&nbsp;\n",
    "\n",
    "__Constraints:__\n",
    "\n",
    "* <code> 1 &lt;= n &lt;= 45 </code>"
   ],
   "cell_type": "markdown",
   "metadata": {}
  },
  {
   "source": [
    "## Answer\n",
    "\n",
    "從 `n=3` 的情況我們可以觀察到，最後一步可以走 `1` 或 `2` 階樓梯，分別對應到 `n=2` 和 `n=1` 的解，因此我們可以得出 `n(i) = n(i - 1) + n(i - 2)` 的結論"
   ],
   "cell_type": "markdown",
   "metadata": {}
  },
  {
   "cell_type": "code",
   "execution_count": null,
   "metadata": {},
   "outputs": [],
   "source": [
    "class Solution:\n",
    "    def climbStairs(self, n: int) -> int:\n",
    "        if n == 1:\n",
    "            return 1\n",
    "        elif n == 2:\n",
    "            return 2\n",
    "        else:\n",
    "            result = 0\n",
    "            previous = 1\n",
    "            current = 2\n",
    "            for _ in range(n - 2):\n",
    "                result = previous + current\n",
    "                previous = current\n",
    "                current = result\n",
    "            return result\n"
   ]
  }
 ]
}