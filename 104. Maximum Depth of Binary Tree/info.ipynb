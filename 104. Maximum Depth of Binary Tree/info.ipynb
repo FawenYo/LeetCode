{
 "cells": [
  {
   "cell_type": "markdown",
   "metadata": {
    "pycharm": {
     "name": "#%% md\n"
    }
   },
   "source": [
    "## Question\n",
    "\n",
    "Given the `` root `` of a binary tree, return _its maximum depth_.\n",
    "\n",
    "A binary tree's __maximum depth__&nbsp;is the number of nodes along the longest path from the root node down to the farthest leaf node.\n",
    "\n",
    "&nbsp;\n",
    "\n",
    "__Example 1:__\n",
    "\n",
    "<img alt=\"\" src=\"https://assets.leetcode.com/uploads/2020/11/26/tmp-tree.jpg\" style=\"width: 400px; height: 277px;\"/>\n",
    "\n",
    "<pre>\n",
    "<strong>Input:</strong> root = [3,9,20,null,null,15,7]\n",
    "<strong>Output:</strong> 3\n",
    "</pre>\n",
    "\n",
    "__Example 2:__\n",
    "\n",
    "<pre>\n",
    "<strong>Input:</strong> root = [1,null,2]\n",
    "<strong>Output:</strong> 2\n",
    "</pre>\n",
    "\n",
    "__Example 3:__\n",
    "\n",
    "<pre>\n",
    "<strong>Input:</strong> root = []\n",
    "<strong>Output:</strong> 0\n",
    "</pre>\n",
    "\n",
    "__Example 4:__\n",
    "\n",
    "<pre>\n",
    "<strong>Input:</strong> root = [0]\n",
    "<strong>Output:</strong> 1\n",
    "</pre>\n",
    "\n",
    "&nbsp;\n",
    "\n",
    "__Constraints:__\n",
    "\n",
    "* The number of nodes in the tree is in the range <code>[0, 10<sup>4</sup>]</code>.\n",
    "* <code> -100 &lt;= Node.val &lt;= 100 </code>"
   ]
  },
  {
   "cell_type": "markdown",
   "metadata": {
    "pycharm": {
     "name": "#%% md\n"
    }
   },
   "source": [
    "## Answer\n",
    "\n",
    "比較左右的深度，並加上當前節點層"
   ]
  },
  {
   "cell_type": "code",
   "execution_count": null,
   "metadata": {
    "pycharm": {
     "name": "#%%\n"
    }
   },
   "outputs": [],
   "source": [
    "class Solution:\n",
    "    def maxDepth(self, root: TreeNode) -> int:\n",
    "        if root:\n",
    "            # +1 for current node\n",
    "            return (\n",
    "                max(self.maxDepth(root=root.left), self.maxDepth(root=root.right)) + 1\n",
    "            )\n",
    "        else:\n",
    "            return 0\n"
   ]
  }
 ],
 "metadata": {
  "kernelspec": {
   "display_name": "Python 3",
   "language": "python",
   "name": "python3"
  },
  "language_info": {
   "codemirror_mode": {
    "name": "ipython",
    "version": 3
   },
   "file_extension": ".py",
   "mimetype": "text/x-python",
   "name": "python",
   "nbconvert_exporter": "python",
   "pygments_lexer": "ipython3",
   "version": "3.8.3"
  }
 },
 "nbformat": 4,
 "nbformat_minor": 1
}