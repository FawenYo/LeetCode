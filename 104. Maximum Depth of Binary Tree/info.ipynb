{
 "cells": [
  {
   "cell_type": "markdown",
   "metadata": {
    "pycharm": {
     "name": "#%% md\n"
    }
   },
   "source": [
    "## Question\n",
    "\n",
    "Given the `root` of a binary tree, return its maximum depth.\n",
    "\n",
    "A binary tree's **maximum depth** is the number of nodes along the longest path from the root node down to the farthest leaf node.\n",
    "\n",
    "## Examples\n",
    "\n",
    "### Example 1:\n",
    "\n",
    "![Example Image](https://assets.leetcode.com/uploads/2020/11/26/tmp-tree.jpg)\n",
    "\n",
    "```shell\n",
    "Input: root = [3,9,20,null,null,15,7]\n",
    "Output: 3\n",
    "```\n",
    "\n",
    "### Example 2:\n",
    "\n",
    "```shell\n",
    "Input: root = [1,null,2]\n",
    "Output: 2\n",
    "```\n",
    "\n",
    "### Example 3:\n",
    "\n",
    "```shell\n",
    "Input: root = []\n",
    "Output: 0\n",
    "```\n",
    "\n",
    "### Example 4:\n",
    "\n",
    "```shell\n",
    "Input: root = [0]\n",
    "Output: 1\n",
    "```\n",
    "\n",
    "## Constraints:\n",
    "\n",
    "* The number of nodes in the tree is in the range $[0, 10^4]$.\n",
    "* $-100 \\leq Node.val \\leq 100$"
   ]
  },
  {
   "cell_type": "markdown",
   "metadata": {
    "pycharm": {
     "name": "#%% md\n"
    }
   },
   "source": [
    "## Answer\n",
    "\n",
    "(待補齊)"
   ]
  },
  {
   "cell_type": "code",
   "execution_count": null,
   "metadata": {
    "pycharm": {
     "name": "#%%\n"
    }
   },
   "outputs": [],
   "source": [
    "class Solution:\n",
    "    def maxDepth(self, root: TreeNode) -> int:\n",
    "        if root:\n",
    "            return (\n",
    "                max(self.maxDepth(root=root.left), self.maxDepth(root=root.right)) + 1\n",
    "            )\n",
    "        else:\n",
    "            return 0\n"
   ]
  }
 ],
 "metadata": {
  "kernelspec": {
   "display_name": "Python 3",
   "language": "python",
   "name": "python3"
  },
  "language_info": {
   "codemirror_mode": {
    "name": "ipython",
    "version": 3
   },
   "file_extension": ".py",
   "mimetype": "text/x-python",
   "name": "python",
   "nbconvert_exporter": "python",
   "pygments_lexer": "ipython3",
   "version": "3.8.3"
  }
 },
 "nbformat": 4,
 "nbformat_minor": 1
}
