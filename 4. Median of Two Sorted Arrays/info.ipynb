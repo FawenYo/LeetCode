{
 "metadata": {
  "language_info": {
   "codemirror_mode": {
    "name": "ipython",
    "version": 3
   },
   "file_extension": ".py",
   "mimetype": "text/x-python",
   "name": "python",
   "nbconvert_exporter": "python",
   "pygments_lexer": "ipython3",
   "version": 3
  },
  "orig_nbformat": 2
 },
 "nbformat": 4,
 "nbformat_minor": 2,
 "cells": [
  {
   "source": [
    "## Question\n",
    "\n",
    "Given two sorted arrays `` nums1 `` and `` nums2 `` of size `` m `` and `` n `` respectively, return __the median__ of the two sorted arrays.\n",
    "\n",
    "&nbsp;\n",
    "\n",
    "__Example 1:__\n",
    "\n",
    "<pre>\n",
    "<strong>Input:</strong> nums1 = [1,3], nums2 = [2]\n",
    "<strong>Output:</strong> 2.00000\n",
    "<strong>Explanation:</strong> merged array = [1,2,3] and median is 2.\n",
    "</pre>\n",
    "\n",
    "__Example 2:__\n",
    "\n",
    "<pre>\n",
    "<strong>Input:</strong> nums1 = [1,2], nums2 = [3,4]\n",
    "<strong>Output:</strong> 2.50000\n",
    "<strong>Explanation:</strong> merged array = [1,2,3,4] and median is (2 + 3) / 2 = 2.5.\n",
    "</pre>\n",
    "\n",
    "__Example 3:__\n",
    "\n",
    "<pre>\n",
    "<strong>Input:</strong> nums1 = [0,0], nums2 = [0,0]\n",
    "<strong>Output:</strong> 0.00000\n",
    "</pre>\n",
    "\n",
    "__Example 4:__\n",
    "\n",
    "<pre>\n",
    "<strong>Input:</strong> nums1 = [], nums2 = [1]\n",
    "<strong>Output:</strong> 1.00000\n",
    "</pre>\n",
    "\n",
    "__Example 5:__\n",
    "\n",
    "<pre>\n",
    "<strong>Input:</strong> nums1 = [2], nums2 = []\n",
    "<strong>Output:</strong> 2.00000\n",
    "</pre>\n",
    "\n",
    "&nbsp;\n",
    "\n",
    "__Constraints:__\n",
    "\n",
    "* `` nums1.length == m ``\n",
    "* `` nums2.length == n ``\n",
    "* <code> 0 &lt;= m &lt;= 1000 </code>\n",
    "* <code> 0 &lt;= n &lt;= 1000 </code>\n",
    "* <code> 1 &lt;= m + n &lt;= 2000 </code>\n",
    "* <code>-10<sup>6</sup> &lt;= nums1[i], nums2[i] &lt;= 10<sup>6</sup></code>\n",
    "\n",
    "&nbsp;\n",
    "__Follow up:__ The overall run time complexity should be `` O(log (m+n)) ``."
   ],
   "cell_type": "markdown",
   "metadata": {}
  },
  {
   "source": [
    "## Answer\n",
    "\n",
    "因為期中考的緣故，本題使用較簡單的方法解題，Follow up 的解法尚未想到"
   ],
   "cell_type": "markdown",
   "metadata": {}
  },
  {
   "cell_type": "code",
   "execution_count": null,
   "metadata": {},
   "outputs": [],
   "source": [
    "class Solution:\n",
    "    def findMedianSortedArrays(self, nums1: List[int], nums2: List[int]) -> float:\n",
    "        combination = nums1 + nums2\n",
    "        combination.sort()\n",
    "        if len(combination) % 2 == 0:\n",
    "            median = (\n",
    "                combination[int(len(combination) / 2 - 1)]\n",
    "                + combination[int(len(combination) / 2)]\n",
    "            ) / 2\n",
    "            return median\n",
    "        else:\n",
    "            return float(combination[int((len(combination)) // 2)])\n"
   ]
  }
 ]
}