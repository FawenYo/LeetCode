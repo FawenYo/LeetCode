{
 "metadata": {
  "language_info": {
   "codemirror_mode": {
    "name": "ipython",
    "version": 3
   },
   "file_extension": ".py",
   "mimetype": "text/x-python",
   "name": "python",
   "nbconvert_exporter": "python",
   "pygments_lexer": "ipython3",
   "version": 3
  },
  "orig_nbformat": 2
 },
 "nbformat": 4,
 "nbformat_minor": 2,
 "cells": [
  {
   "source": [
    "## Question\n",
    "\n",
    "Given an array of strings `` strs ``, group __the anagrams__ together. You can return the answer in __any order__.\n",
    "\n",
    "An __Anagram__ is a word or phrase formed by rearranging the letters of a different word or phrase, typically using all the original letters exactly once.\n",
    "\n",
    "&nbsp;\n",
    "\n",
    "__Example 1:__\n",
    "\n",
    "<pre><strong>Input:</strong> strs = [\"eat\",\"tea\",\"tan\",\"ate\",\"nat\",\"bat\"]\n",
    "<strong>Output:</strong> [[\"bat\"],[\"nat\",\"tan\"],[\"ate\",\"eat\",\"tea\"]]\n",
    "</pre>\n",
    "\n",
    "__Example 2:__\n",
    "\n",
    "<pre><strong>Input:</strong> strs = [\"\"]\n",
    "<strong>Output:</strong> [[\"\"]]\n",
    "</pre>\n",
    "\n",
    "__Example 3:__\n",
    "\n",
    "<pre><strong>Input:</strong> strs = [\"a\"]\n",
    "<strong>Output:</strong> [[\"a\"]]\n",
    "</pre>\n",
    "\n",
    "&nbsp;\n",
    "\n",
    "__Constraints:__\n",
    "\n",
    "* <code>1 &lt;= strs.length &lt;= 10<sup>4</sup></code>\n",
    "* <code> 0 &lt;= strs[i].length &lt;= 100 </code>\n",
    "* `` strs[i] `` consists of lower-case English letters."
   ],
   "cell_type": "markdown",
   "metadata": {}
  },
  {
   "source": [
    "## Answer\n",
    "\n",
    "本題關鍵點在對列表的內容進行排序，之後再返回 `map` 的 `values` 即可求得答案"
   ],
   "cell_type": "markdown",
   "metadata": {}
  },
  {
   "cell_type": "code",
   "execution_count": null,
   "metadata": {},
   "outputs": [],
   "source": [
    "class Solution:\n",
    "    def groupAnagrams(self, strs: List[str]) -> List[List[str]]:\n",
    "        map = {}\n",
    "        for each in strs:\n",
    "            key = tuple(sorted(each))\n",
    "            if key in map:\n",
    "                map[key].append(each)\n",
    "            else:\n",
    "                map[key] = [each]\n",
    "        return list(map.values())\n"
   ]
  }
 ]
}