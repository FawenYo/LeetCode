{
 "metadata": {
  "language_info": {
   "codemirror_mode": {
    "name": "ipython",
    "version": 3
   },
   "file_extension": ".py",
   "mimetype": "text/x-python",
   "name": "python",
   "nbconvert_exporter": "python",
   "pygments_lexer": "ipython3",
   "version": 3
  },
  "orig_nbformat": 2
 },
 "nbformat": 4,
 "nbformat_minor": 2,
 "cells": [
  {
   "source": [
    "## Question\n",
    "\n",
    "Implement __next permutation__, which rearranges numbers into the lexicographically next greater permutation of numbers.\n",
    "\n",
    "If such an arrangement is not possible, it must rearrange it as the lowest possible order (i.e., sorted in ascending order).\n",
    "\n",
    "The replacement must be __<a href=\"http://en.wikipedia.org/wiki/In-place_algorithm\" target=\"_blank\">in place</a>__ and use only constant&nbsp;extra memory.\n",
    "\n",
    "&nbsp;\n",
    "\n",
    "__Example 1:__\n",
    "\n",
    "<pre><strong>Input:</strong> nums = [1,2,3]\n",
    "<strong>Output:</strong> [1,3,2]\n",
    "</pre>\n",
    "\n",
    "__Example 2:__\n",
    "\n",
    "<pre><strong>Input:</strong> nums = [3,2,1]\n",
    "<strong>Output:</strong> [1,2,3]\n",
    "</pre>\n",
    "\n",
    "__Example 3:__\n",
    "\n",
    "<pre><strong>Input:</strong> nums = [1,1,5]\n",
    "<strong>Output:</strong> [1,5,1]\n",
    "</pre>\n",
    "\n",
    "__Example 4:__\n",
    "\n",
    "<pre><strong>Input:</strong> nums = [1]\n",
    "<strong>Output:</strong> [1]\n",
    "</pre>\n",
    "\n",
    "&nbsp;\n",
    "\n",
    "__Constraints:__\n",
    "\n",
    "* <code> 1 &lt;= nums.length &lt;= 100 </code>\n",
    "* <code> 0 &lt;= nums[i] &lt;= 100 </code>"
   ],
   "cell_type": "markdown",
   "metadata": {}
  },
  {
   "source": [
    "## Answer\n",
    "\n",
    "比較前後大小"
   ],
   "cell_type": "markdown",
   "metadata": {}
  },
  {
   "cell_type": "code",
   "execution_count": null,
   "metadata": {},
   "outputs": [],
   "source": [
    "class Solution:\n",
    "    def nextPermutation(self, nums: List[int]) -> None:\n",
    "        \"\"\"\n",
    "        Do not return anything, modify nums in-place instead.\n",
    "        \"\"\"\n",
    "        i = j = len(nums) - 1\n",
    "        while i > 0 and nums[i - 1] >= nums[i]:\n",
    "            i -= 1\n",
    "        # Descending order\n",
    "        if i == 0:\n",
    "            nums.reverse()\n",
    "            return None\n",
    "        # Find the last \"ascending\" position\n",
    "        k = i - 1\n",
    "        while nums[j] <= nums[k]:\n",
    "            j -= 1\n",
    "        nums[k], nums[j] = nums[j], nums[k]\n",
    "        # Reverse the second part\n",
    "        l, r = k + 1, len(nums) - 1\n",
    "        while l < r:\n",
    "            nums[l], nums[r] = nums[r], nums[l]\n",
    "            l += 1\n",
    "            r -= 1\n"
   ]
  }
 ]
}