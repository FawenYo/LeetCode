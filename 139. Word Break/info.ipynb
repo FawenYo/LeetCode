{
 "metadata": {
  "language_info": {
   "codemirror_mode": {
    "name": "ipython",
    "version": 3
   },
   "file_extension": ".py",
   "mimetype": "text/x-python",
   "name": "python",
   "nbconvert_exporter": "python",
   "pygments_lexer": "ipython3",
   "version": 3
  },
  "orig_nbformat": 2
 },
 "nbformat": 4,
 "nbformat_minor": 2,
 "cells": [
  {
   "source": [
    "## Question\n",
    "\n",
    "Given a string `` s `` and a dictionary of strings `` wordDict ``, return `` true `` if `` s `` can be segmented into a space-separated sequence of one or more dictionary words.\n",
    "\n",
    "__Note__ that the same word in the dictionary may be reused multiple times in the segmentation.\n",
    "\n",
    "&nbsp;\n",
    "\n",
    "__Example 1:__\n",
    "\n",
    "<pre>\n",
    "<strong>Input:</strong> s = \"leetcode\", wordDict = [\"leet\",\"code\"]\n",
    "<strong>Output:</strong> true\n",
    "<strong>Explanation:</strong> Return true because \"leetcode\" can be segmented as \"leet code\".\n",
    "</pre>\n",
    "\n",
    "__Example 2:__\n",
    "\n",
    "<pre>\n",
    "<strong>Input:</strong> s = \"applepenapple\", wordDict = [\"apple\",\"pen\"]\n",
    "<strong>Output:</strong> true\n",
    "<strong>Explanation:</strong> Return true because \"applepenapple\" can be segmented as \"apple pen apple\".\n",
    "Note that you are allowed to reuse a dictionary word.\n",
    "</pre>\n",
    "\n",
    "__Example 3:__\n",
    "\n",
    "<pre>\n",
    "<strong>Input:</strong> s = \"catsandog\", wordDict = [\"cats\",\"dog\",\"sand\",\"and\",\"cat\"]\n",
    "<strong>Output:</strong> false\n",
    "</pre>\n",
    "\n",
    "&nbsp;\n",
    "\n",
    "__Constraints:__\n",
    "\n",
    "* <code> 1 &lt;= s.length &lt;= 300 </code>\n",
    "* <code> 1 &lt;= wordDict.length &lt;= 1000 </code>\n",
    "* <code> 1 &lt;= wordDict[i].length &lt;= 20 </code>\n",
    "* `` s `` and `` wordDict[i] `` consist of only lowercase English letters.\n",
    "* All the strings of `` wordDict `` are __unique__."
   ],
   "cell_type": "markdown",
   "metadata": {}
  },
  {
   "source": [
    "## Answer\n",
    "\n",
    "利用 DP 演算法解題。可以參考 [YouTube 教學影片](https://www.youtube.com/watch?v=tSbBuiO1rXI)"
   ],
   "cell_type": "markdown",
   "metadata": {}
  },
  {
   "cell_type": "code",
   "execution_count": null,
   "metadata": {},
   "outputs": [],
   "source": [
    "class Solution:\n",
    "    def wordBreak(self, s: str, wordDict: List[str]) -> bool:\n",
    "        # ex. [\"\", \"l\", \"le\", \"lee\", \"leet\", \"leetc\", \"leetco\", \"leetcod\", \"leetcode\"]\n",
    "        dp = [True] + [False] * len(s)\n",
    "\n",
    "        for index in range(1, len(s) + 1):\n",
    "\n",
    "            for word in wordDict:\n",
    "                if dp[index - len(word)] and s[:index].endswith(word):\n",
    "                    dp[index] = True\n",
    "\n",
    "        return dp[-1]\n"
   ]
  }
 ]
}