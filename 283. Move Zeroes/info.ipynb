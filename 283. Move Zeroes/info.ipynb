{
 "metadata": {
  "language_info": {
   "codemirror_mode": {
    "name": "ipython",
    "version": 3
   },
   "file_extension": ".py",
   "mimetype": "text/x-python",
   "name": "python",
   "nbconvert_exporter": "python",
   "pygments_lexer": "ipython3",
   "version": 3
  },
  "orig_nbformat": 2
 },
 "nbformat": 4,
 "nbformat_minor": 2,
 "cells": [
  {
   "source": [
    "## Question\n",
    "\n",
    "Given an integer array `` nums ``, move all `` 0 ``'s to the end of it while maintaining the relative order of the non-zero elements.\n",
    "\n",
    "__Note__ that you must do this in-place without making a copy of the array.\n",
    "\n",
    "&nbsp;\n",
    "\n",
    "__Example 1:__\n",
    "\n",
    "<pre><strong>Input:</strong> nums = [0,1,0,3,12]\n",
    "<strong>Output:</strong> [1,3,12,0,0]\n",
    "</pre>\n",
    "\n",
    "__Example 2:__\n",
    "\n",
    "<pre><strong>Input:</strong> nums = [0]\n",
    "<strong>Output:</strong> [0]\n",
    "</pre>\n",
    "\n",
    "&nbsp;\n",
    "\n",
    "__Constraints:__\n",
    "\n",
    "* <code>1 &lt;= nums.length &lt;= 10<sup>4</sup></code>\n",
    "* <code>-2<sup>31</sup> &lt;= nums[i] &lt;= 2<sup>31</sup> - 1</code>\n",
    "\n",
    "&nbsp;\n",
    "__Follow up:__ Could you minimize the total number of operations done?"
   ],
   "cell_type": "markdown",
   "metadata": {}
  },
  {
   "source": [
    "## Answer\n",
    "\n",
    "需要移動的情況是 `first` 為 0 而 `second` 不為0 的情況"
   ],
   "cell_type": "markdown",
   "metadata": {}
  },
  {
   "cell_type": "code",
   "execution_count": null,
   "metadata": {},
   "outputs": [],
   "source": [
    "class Solution:\n",
    "    def moveZeroes(self, nums: List[int]) -> None:\n",
    "        \"\"\"\n",
    "        Do not return anything, modify nums in-place instead.\n",
    "        \"\"\"\n",
    "        first = 0\n",
    "        for second in range(len(nums)):\n",
    "            if nums[second] != 0 and nums[first] == 0:\n",
    "                # Switch number\n",
    "                nums[first], nums[second] = nums[second], nums[first]\n",
    "\n",
    "            if nums[first] != 0:\n",
    "                first += 1\n"
   ]
  }
 ]
}