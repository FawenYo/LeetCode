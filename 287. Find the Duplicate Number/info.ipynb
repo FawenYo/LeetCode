{
 "metadata": {
  "language_info": {
   "codemirror_mode": {
    "name": "ipython",
    "version": 3
   },
   "file_extension": ".py",
   "mimetype": "text/x-python",
   "name": "python",
   "nbconvert_exporter": "python",
   "pygments_lexer": "ipython3",
   "version": 3
  },
  "orig_nbformat": 2
 },
 "nbformat": 4,
 "nbformat_minor": 2,
 "cells": [
  {
   "source": [
    "## Question\n",
    "\n",
    "Given an array of integers `` nums `` containing&nbsp;`` n + 1 `` integers where each integer is in the range `` [1, n] `` inclusive.\n",
    "\n",
    "There is only __one repeated number__ in `` nums ``, return _this&nbsp;repeated&nbsp;number_.\n",
    "\n",
    "&nbsp;\n",
    "\n",
    "__Example 1:__\n",
    "\n",
    "<pre><strong>Input:</strong> nums = [1,3,4,2,2]\n",
    "<strong>Output:</strong> 2\n",
    "</pre>\n",
    "\n",
    "__Example 2:__\n",
    "\n",
    "<pre><strong>Input:</strong> nums = [3,1,3,4,2]\n",
    "<strong>Output:</strong> 3\n",
    "</pre>\n",
    "\n",
    "__Example 3:__\n",
    "\n",
    "<pre><strong>Input:</strong> nums = [1,1]\n",
    "<strong>Output:</strong> 1\n",
    "</pre>\n",
    "\n",
    "__Example 4:__\n",
    "\n",
    "<pre><strong>Input:</strong> nums = [1,1,2]\n",
    "<strong>Output:</strong> 1\n",
    "</pre>\n",
    "\n",
    "&nbsp;\n",
    "\n",
    "__Constraints:__\n",
    "\n",
    "* <code>2 &lt;= n &lt;= 10<sup>5</sup></code>\n",
    "* `` nums.length == n + 1 ``\n",
    "* <code> 1 &lt;= nums[i] &lt;= n </code>\n",
    "* All the integers in `` nums `` appear only __once__ except for __precisely one integer__ which appears __two or more__ times.\n",
    "\n",
    "&nbsp;\n",
    "\n",
    "__Follow up:__\n",
    "\n",
    "* How can we prove that at least one duplicate number must exist in `` nums ``?\n",
    "* Can you solve the problem __without__ modifying the array `` nums ``?\n",
    "* Can you solve the problem using only constant, `` O(1) `` extra space?\n",
    "* Can you solve the problem with runtime complexity less than <code>O(n<sup>2</sup>)</code>?"
   ],
   "cell_type": "markdown",
   "metadata": {}
  },
  {
   "source": [
    "## Answer\n",
    "\n",
    "實際上可以利用如binary search 方式作答，但因為最近較忙就用最基本的方式解題了"
   ],
   "cell_type": "markdown",
   "metadata": {}
  },
  {
   "cell_type": "code",
   "execution_count": null,
   "metadata": {},
   "outputs": [],
   "source": [
    "class Solution:\n",
    "    def findDuplicate(self, nums: List[int]) -> int:\n",
    "        existing = {}\n",
    "        for number in nums:\n",
    "            if number in existing:\n",
    "                return number\n",
    "            else:\n",
    "                existing[number] = 1\n",
    "        return 0\n"
   ]
  }
 ]
}