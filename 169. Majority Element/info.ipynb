{
 "metadata": {
  "language_info": {
   "codemirror_mode": {
    "name": "ipython",
    "version": 3
   },
   "file_extension": ".py",
   "mimetype": "text/x-python",
   "name": "python",
   "nbconvert_exporter": "python",
   "pygments_lexer": "ipython3",
   "version": 3
  },
  "orig_nbformat": 2
 },
 "nbformat": 4,
 "nbformat_minor": 2,
 "cells": [
  {
   "source": [
    "## Question\n",
    "\n",
    "Given an array `` nums `` of size `` n ``, return _the majority element_.\n",
    "\n",
    "The majority element is the element that appears more than `` ⌊n / 2⌋ `` times. You may assume that the majority element always exists in the array.\n",
    "\n",
    "&nbsp;\n",
    "\n",
    "__Example 1:__\n",
    "\n",
    "<pre><strong>Input:</strong> nums = [3,2,3]\n",
    "<strong>Output:</strong> 3\n",
    "</pre>\n",
    "\n",
    "__Example 2:__\n",
    "\n",
    "<pre><strong>Input:</strong> nums = [2,2,1,1,1,2,2]\n",
    "<strong>Output:</strong> 2\n",
    "</pre>\n",
    "\n",
    "&nbsp;\n",
    "\n",
    "__Constraints:__\n",
    "\n",
    "* `` n == nums.length ``\n",
    "* <code>1 &lt;= n &lt;= 5 * 10<sup>4</sup></code>\n",
    "* <code>-2<sup>31</sup> &lt;= nums[i] &lt;= 2<sup>31</sup> - 1</code>\n",
    "\n",
    "&nbsp;\n",
    "__Follow-up:__ Could you solve the problem in linear time and in `` O(1) `` space?"
   ],
   "cell_type": "markdown",
   "metadata": {}
  },
  {
   "source": [
    "## Answer\n",
    "\n",
    "本題題目中提到`more than ⌊n / 2⌋ times`，故只要先將 `nums` 做排序後取中間位數的數值便是答案，使用 `n//2` 以避免奇數除不盡的問題。"
   ],
   "cell_type": "markdown",
   "metadata": {}
  },
  {
   "cell_type": "code",
   "execution_count": null,
   "metadata": {},
   "outputs": [],
   "source": [
    "class Solution:\n",
    "    def majorityElement(self, nums: List[int]) -> int:\n",
    "        nums.sort()\n",
    "        return nums[len(nums) // 2]\n"
   ]
  }
 ]
}