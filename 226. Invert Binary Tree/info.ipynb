{
 "cells": [
  {
   "cell_type": "markdown",
   "metadata": {},
   "source": [
    "## Question\n",
    "\n",
    "You are given two binary trees `` root1 `` and `` root2 ``.\n",
    "\n",
    "Imagine that when you put one of them to cover the other, some nodes of the two trees are overlapped while the others are not. You need to merge the two trees into a new binary tree. The merge rule is that if two nodes overlap, then sum node values up as the new value of the merged node. Otherwise, the NOT null node will be used as the node of the new tree.\n",
    "\n",
    "Return _the merged tree_.\n",
    "\n",
    "__Note:__ The merging process must start from the root nodes of both trees.\n",
    "\n",
    "&nbsp;\n",
    "\n",
    "__Example 1:__\n",
    "\n",
    "<img alt=\"\" src=\"https://assets.leetcode.com/uploads/2021/02/05/merge.jpg\" style=\"width: 600px; height: 163px;\"/>\n",
    "\n",
    "<pre>\n",
    "<strong>Input:</strong> root1 = [1,3,2,5], root2 = [2,1,3,null,4,null,7]\n",
    "<strong>Output:</strong> [3,4,5,5,4,null,7]\n",
    "</pre>\n",
    "\n",
    "__Example 2:__\n",
    "\n",
    "<pre>\n",
    "<strong>Input:</strong> root1 = [1], root2 = [1,2]\n",
    "<strong>Output:</strong> [2,2]\n",
    "</pre>\n",
    "\n",
    "&nbsp;\n",
    "\n",
    "__Constraints:__\n",
    "\n",
    "* The number of nodes in both trees is in the range `` [0, 2000] ``.\n",
    "* <code>-10<sup>4</sup> &lt;= Node.val &lt;= 10<sup>4</sup></code>"
   ]
  },
  {
   "cell_type": "markdown",
   "metadata": {},
   "source": [
    "## Answer\n",
    "\n",
    "本題為基本對二元樹之操作，基本沒什麼難度，使用遞迴方式解題"
   ]
  },
  {
   "cell_type": "code",
   "execution_count": null,
   "metadata": {},
   "outputs": [],
   "source": [
    "class Solution:\n",
    "    def mergeTrees(self, root1: TreeNode, root2: TreeNode) -> TreeNode:\n",
    "        # Both are not None\n",
    "        if root1 and root2:\n",
    "            # Current node\n",
    "            root = TreeNode(val=root1.val + root2.val)\n",
    "            # Left node\n",
    "            root.left = self.mergeTrees(root1=root1.left, root2=root2.left)\n",
    "            # Right node\n",
    "            root.right = self.mergeTrees(root1=root1.right, root2=root2.right)\n",
    "            return root\n",
    "        else:\n",
    "            return root1 or root2\n"
   ]
  }
 ],
 "metadata": {
  "kernelspec": {
   "display_name": "Python 3",
   "language": "python",
   "name": "python3"
  },
  "language_info": {
   "codemirror_mode": {
    "name": "ipython",
    "version": 3
   },
   "file_extension": ".py",
   "mimetype": "text/x-python",
   "name": "python",
   "nbconvert_exporter": "python",
   "pygments_lexer": "ipython3",
   "version": "3.8.3"
  }
 },
 "nbformat": 4,
 "nbformat_minor": 2
}
