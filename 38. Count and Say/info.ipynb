{
 "metadata": {
  "language_info": {
   "codemirror_mode": {
    "name": "ipython",
    "version": 3
   },
   "file_extension": ".py",
   "mimetype": "text/x-python",
   "name": "python",
   "nbconvert_exporter": "python",
   "pygments_lexer": "ipython3",
   "version": 3
  },
  "orig_nbformat": 2
 },
 "nbformat": 4,
 "nbformat_minor": 2,
 "cells": [
  {
   "source": [
    "## Question\n",
    "\n",
    "The **count-and-say** sequence is a sequence of digit strings defined by the recursive formula:\n",
    "\n",
    "* $countAndSay(1) = \"1\"$\n",
    "* $countAndSay(n)$ is the way you would \"say\" the digit string from $countAndSay(n-1)$, which is then converted into a different digit string.\n",
    "\n",
    "To determine how you \"say\" a digit string, split it into the **minimal** number of groups so that each group is a contiguous section all of the **same character**. Then for each group, say the number of characters, then say the character. To convert the saying into a digit string, replace the counts with a number and concatenate every saying.\n",
    "\n",
    "For example, the saying and conversion for digit string $\"3322251\"$:\n",
    "\n",
    "![image](https://assets.leetcode.com/uploads/2020/10/23/countandsay.jpg)\n",
    "\n",
    "Given a positive integer $n$, return the $n^{th}$ term of the **count-and-say** sequence.\n",
    "\n",
    "## Examples\n",
    "\n",
    "### Example 1:\n",
    "\n",
    "```shell\n",
    "Input: n = 1\n",
    "Output: \"1\"\n",
    "Explanation: This is the base case.\n",
    "```\n",
    "\n",
    "### Example 2:\n",
    "\n",
    "```shell\n",
    "Input: n = 4\n",
    "Output: \"1211\"\n",
    "Explanation:\n",
    "countAndSay(1) = \"1\"\n",
    "countAndSay(2) = say \"1\" = one 1 = \"11\"\n",
    "countAndSay(3) = say \"11\" = two 1's = \"21\"\n",
    "countAndSay(4) = say \"21\" = one 2 + one 1 = \"12\" + \"11\" = \"1211\"\n",
    "```\n",
    "\n",
    "## Constraints:\n",
    "\n",
    "* $1 \\leq n \\leq 30$"
   ],
   "cell_type": "markdown",
   "metadata": {}
  },
  {
   "source": [
    "## Answer\n",
    "\n",
    "紀錄數字和其個數"
   ],
   "cell_type": "markdown",
   "metadata": {}
  },
  {
   "cell_type": "code",
   "execution_count": null,
   "metadata": {},
   "outputs": [],
   "source": [
    "class Solution:\n",
    "    def countAndSay(self, n: int) -> str:\n",
    "        if n == 1:\n",
    "            return \"1\"\n",
    "        else:\n",
    "            result = \"1\"\n",
    "            for _ in range(n - 1):\n",
    "                temp = \"\"\n",
    "                previous_number = result[0]\n",
    "                number_count = 0\n",
    "\n",
    "                for each_number in result:\n",
    "                    # Same as previous number\n",
    "                    if each_number == previous_number:\n",
    "                        number_count += 1\n",
    "                    else:\n",
    "                        # Update temp\n",
    "                        temp += f\"{number_count}{previous_number}\"\n",
    "                        # Update previous_number and number_count\n",
    "                        previous_number = each_number\n",
    "                        number_count = 1\n",
    "                # Update temp\n",
    "                temp += f\"{number_count}{previous_number}\"\n",
    "                result = temp\n",
    "            return result\n"
   ]
  }
 ]
}