{
 "metadata": {
  "language_info": {
   "codemirror_mode": {
    "name": "ipython",
    "version": 3
   },
   "file_extension": ".py",
   "mimetype": "text/x-python",
   "name": "python",
   "nbconvert_exporter": "python",
   "pygments_lexer": "ipython3",
   "version": 3
  },
  "orig_nbformat": 2
 },
 "nbformat": 4,
 "nbformat_minor": 2,
 "cells": [
  {
   "source": [
    "## Question\n",
    "\n",
    "Given an integer array nums, return all the triplets `` [nums[i], nums[j], nums[k]] `` such that `` i != j ``, `` i != k ``, and `` j != k ``, and `` nums[i] + nums[j] + nums[k] == 0 ``.\n",
    "\n",
    "Notice that the solution set must not contain duplicate triplets.\n",
    "\n",
    "&nbsp;\n",
    "\n",
    "__Example 1:__\n",
    "\n",
    "<pre><strong>Input:</strong> nums = [-1,0,1,2,-1,-4]\n",
    "<strong>Output:</strong> [[-1,-1,2],[-1,0,1]]\n",
    "</pre>\n",
    "\n",
    "__Example 2:__\n",
    "\n",
    "<pre><strong>Input:</strong> nums = []\n",
    "<strong>Output:</strong> []\n",
    "</pre>\n",
    "\n",
    "__Example 3:__\n",
    "\n",
    "<pre><strong>Input:</strong> nums = [0]\n",
    "<strong>Output:</strong> []\n",
    "</pre>\n",
    "\n",
    "&nbsp;\n",
    "\n",
    "__Constraints:__\n",
    "\n",
    "* <code> 0 &lt;= nums.length &lt;= 3000 </code>\n",
    "* <code>-10<sup>5</sup> &lt;= nums[i] &lt;= 10<sup>5</sup></code>"
   ],
   "cell_type": "markdown",
   "metadata": {}
  },
  {
   "source": [
    "## Answer\n",
    "\n",
    "關鍵：**Dict查找速度會比List快上許多**，因為Dict是**直接尋找**值，而List則是類似**遍歷尋找**。\n",
    "\n",
    "本題解題思路基本上和1. Two Sum 解法相近，找到兩個數字後只需檢查 `-num1-num2` 是否存在於 `nums` 內，便可解題。"
   ],
   "cell_type": "markdown",
   "metadata": {}
  },
  {
   "cell_type": "code",
   "execution_count": null,
   "metadata": {},
   "outputs": [],
   "source": [
    "class Solution:\n",
    "    def threeSum(self, nums: List[int]) -> List[List[int]]:\n",
    "        result = set()\n",
    "        # Sort list first\n",
    "        nums.sort()\n",
    "\n",
    "        for first_index, first_num in enumerate(nums):\n",
    "            # Bypass if first_num is same with previous num\n",
    "            if first_index >= 1 and first_num == nums[first_index - 1]:\n",
    "                continue\n",
    "            # Key point: find in dictionary has far BETTER performance than list\n",
    "            remain = {}\n",
    "            for second_num in nums[first_index + 1 :]:\n",
    "                if second_num in remain:\n",
    "                    # Found answer\n",
    "                    result.add(\n",
    "                        tuple(sorted((first_num, second_num, -first_num - second_num)))\n",
    "                    )\n",
    "                else:\n",
    "                    remain[-first_num - second_num] = 1\n",
    "        return sorted(result)\n"
   ]
  }
 ]
}