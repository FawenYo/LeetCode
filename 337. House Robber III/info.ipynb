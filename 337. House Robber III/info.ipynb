{
 "cells": [
  {
   "cell_type": "markdown",
   "metadata": {},
   "source": [
    "## Question\n",
    "\n",
    "The thief has found himself a new place for his thievery again. There is only one entrance to this area, called `` root ``.\n",
    "\n",
    "Besides the `` root ``, each house has one and only one parent house. After a tour, the smart thief realized that all houses in this place form a binary tree. It will automatically contact the police if __two directly-linked houses were broken into on the same night__.\n",
    "\n",
    "Given the `` root `` of the binary tree, return _the maximum amount of money the thief can rob __without alerting the police___.\n",
    "\n",
    "&nbsp;\n",
    "\n",
    "__Example 1:__\n",
    "\n",
    "<img alt=\"\" src=\"https://assets.leetcode.com/uploads/2021/03/10/rob1-tree.jpg\" style=\"width: 277px; height: 293px;\"/>\n",
    "\n",
    "<pre>\n",
    "<strong>Input:</strong> root = [3,2,3,null,3,null,1]\n",
    "<strong>Output:</strong> 7\n",
    "<strong>Explanation:</strong> Maximum amount of money the thief can rob = 3 + 3 + 1 = 7.\n",
    "</pre>\n",
    "\n",
    "__Example 2:__\n",
    "\n",
    "<img alt=\"\" src=\"https://assets.leetcode.com/uploads/2021/03/10/rob2-tree.jpg\" style=\"width: 357px; height: 293px;\"/>\n",
    "\n",
    "<pre>\n",
    "<strong>Input:</strong> root = [3,4,5,1,3,null,1]\n",
    "<strong>Output:</strong> 9\n",
    "<strong>Explanation:</strong> Maximum amount of money the thief can rob = 4 + 5 = 9.\n",
    "</pre>\n",
    "\n",
    "&nbsp;\n",
    "\n",
    "__Constraints:__\n",
    "\n",
    "* The number of nodes in the tree is in the range <code>[1, 10<sup>4</sup>]</code>.\n",
    "* <code>0 &lt;= Node.val &lt;= 10<sup>4</sup></code>"
   ]
  },
  {
   "cell_type": "markdown",
   "metadata": {},
   "source": [
    "## Answer\n",
    "\n",
    "本題包含兩種情況：`搶劫當前節點層` 或 `跳過當前節點層`\n",
    "\n",
    "`搶劫當前節點層`：子節點層的左右都不計算\n",
    "\n",
    "`跳過當前節點層`：是否要搶劫左邊子節點層 + 是否要搶劫左邊子節點層 (不一定要搶子節點層，搶了不一定有較好結果)"
   ]
  },
  {
   "cell_type": "code",
   "execution_count": null,
   "metadata": {
    "pycharm": {
     "name": "#%%\n"
    }
   },
   "outputs": [],
   "source": [
    "class Solution:\n",
    "    def rob(self, root: TreeNode) -> int:\n",
    "        def result(node: TreeNode) -> Tuple[int, int]:\n",
    "            if node:\n",
    "                with_left, without_left = result(node=node.left)\n",
    "                with_right, without_right = result(node=node.right)\n",
    "                # If rob first\n",
    "                rob_first = node.val + without_left + without_right\n",
    "                # If skip first\n",
    "                skip_first = max(with_left, without_left) + max(\n",
    "                    with_right, without_right\n",
    "                )\n",
    "                return rob_first, skip_first\n",
    "            else:\n",
    "                return 0, 0\n",
    "\n",
    "        return max(result(node=root))\n"
   ]
  }
 ],
 "metadata": {
  "kernelspec": {
   "display_name": "Python 3",
   "language": "python",
   "name": "python3"
  },
  "language_info": {
   "codemirror_mode": {
    "name": "ipython",
    "version": 3
   },
   "file_extension": ".py",
   "mimetype": "text/x-python",
   "name": "python",
   "nbconvert_exporter": "python",
   "pygments_lexer": "ipython3",
   "version": "3.8.3"
  }
 },
 "nbformat": 4,
 "nbformat_minor": 1
}