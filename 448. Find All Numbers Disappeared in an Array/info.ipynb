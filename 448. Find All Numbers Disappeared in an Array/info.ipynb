{
 "metadata": {
  "language_info": {
   "codemirror_mode": {
    "name": "ipython",
    "version": 3
   },
   "file_extension": ".py",
   "mimetype": "text/x-python",
   "name": "python",
   "nbconvert_exporter": "python",
   "pygments_lexer": "ipython3",
   "version": 3
  },
  "orig_nbformat": 2
 },
 "nbformat": 4,
 "nbformat_minor": 2,
 "cells": [
  {
   "source": [
    "## Question\n",
    "\n",
    "Given an array `` nums `` of `` n `` integers where `` nums[i] `` is in the range `` [1, n] ``, return _an array of all the integers in the range_ `` [1, n] `` _that do not appear in_ `` nums ``.\n",
    "\n",
    "&nbsp;\n",
    "\n",
    "__Example 1:__\n",
    "\n",
    "<pre><strong>Input:</strong> nums = [4,3,2,7,8,2,3,1]\n",
    "<strong>Output:</strong> [5,6]\n",
    "</pre>\n",
    "\n",
    "__Example 2:__\n",
    "\n",
    "<pre><strong>Input:</strong> nums = [1,1]\n",
    "<strong>Output:</strong> [2]\n",
    "</pre>\n",
    "\n",
    "&nbsp;\n",
    "\n",
    "__Constraints:__\n",
    "\n",
    "* `` n == nums.length ``\n",
    "* <code>1 &lt;= n &lt;= 10<sup>5</sup></code>\n",
    "* <code> 1 &lt;= nums[i] &lt;= n </code>\n",
    "\n",
    "&nbsp;\n",
    "\n",
    "__Follow up:__ Could you do it without extra space and in `` O(n) `` runtime? You may assume the returned list does not count as extra space."
   ],
   "cell_type": "markdown",
   "metadata": {}
  },
  {
   "source": [
    "## Answer\n",
    "\n",
    "本題如果直接檢查 `in nums` 的話很容易會 Time Limit Exceeded，關鍵點是利用 `set` 的方式排除重複的內容，增加檢查效率"
   ],
   "cell_type": "markdown",
   "metadata": {}
  },
  {
   "cell_type": "code",
   "execution_count": null,
   "metadata": {},
   "outputs": [],
   "source": [
    "class Solution:\n",
    "    def findDisappearedNumbers(self, nums: List[int]) -> List[int]:\n",
    "        result = []\n",
    "        num_set = set(nums)\n",
    "        for number in range(1, len(nums) + 1):\n",
    "            if number not in num_set:\n",
    "                result.append(number)\n",
    "        return result\n"
   ]
  }
 ]
}