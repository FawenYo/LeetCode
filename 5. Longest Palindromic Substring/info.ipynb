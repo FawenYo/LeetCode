{
 "cells": [
  {
   "cell_type": "markdown",
   "metadata": {},
   "source": [
    "## Question\n",
    "\n",
    "Given a string `` s ``, return&nbsp;_the longest palindromic substring_ in `` s ``.\n",
    "\n",
    "&nbsp;\n",
    "\n",
    "__Example 1:__\n",
    "\n",
    "<pre>\n",
    "<strong>Input:</strong> s = \"babad\"\n",
    "<strong>Output:</strong> \"bab\"\n",
    "<strong>Note:</strong> \"aba\" is also a valid answer.\n",
    "</pre>\n",
    "\n",
    "__Example 2:__\n",
    "\n",
    "<pre>\n",
    "<strong>Input:</strong> s = \"cbbd\"\n",
    "<strong>Output:</strong> \"bb\"\n",
    "</pre>\n",
    "\n",
    "__Example 3:__\n",
    "\n",
    "<pre>\n",
    "<strong>Input:</strong> s = \"a\"\n",
    "<strong>Output:</strong> \"a\"\n",
    "</pre>\n",
    "\n",
    "__Example 4:__\n",
    "\n",
    "<pre>\n",
    "<strong>Input:</strong> s = \"ac\"\n",
    "<strong>Output:</strong> \"a\"\n",
    "</pre>\n",
    "\n",
    "&nbsp;\n",
    "\n",
    "__Constraints:__\n",
    "\n",
    "* <code> 1 &lt;= s.length &lt;= 1000 </code>\n",
    "* `` s `` consist of only digits and English letters (lower-case and/or upper-case),"
   ]
  },
  {
   "cell_type": "markdown",
   "metadata": {},
   "source": [
    "## Answer\n",
    "\n",
    "以 Question.3 基礎做修改，若遇到曾出現過的字就檢查是否為回文"
   ]
  },
  {
   "cell_type": "code",
   "execution_count": null,
   "metadata": {},
   "outputs": [],
   "source": [
    "class Solution:\n",
    "    def longestPalindrome(self, s: str) -> str:\n",
    "        used_characters = {}\n",
    "        longest_string = s[0]\n",
    "        for character_index, character in enumerate(s):\n",
    "            # Character has already appeared in string\n",
    "            if character in used_characters:\n",
    "                used_characters[character].append(character_index)\n",
    "                for history_index in used_characters[character]:\n",
    "                    sub_string = s[history_index : character_index + 1]\n",
    "                    if sub_string == sub_string[::-1]:\n",
    "                        longest_string = max(sub_string, longest_string, key=len)\n",
    "                        break\n",
    "            else:\n",
    "                # Record character's index\n",
    "                used_characters[character] = [character_index]\n",
    "        return longest_string\n"
   ]
  }
 ],
 "metadata": {
  "kernelspec": {
   "display_name": "Python 3",
   "language": "python",
   "name": "python3"
  },
  "language_info": {
   "codemirror_mode": {
    "name": "ipython",
    "version": 3
   },
   "file_extension": ".py",
   "mimetype": "text/x-python",
   "name": "python",
   "nbconvert_exporter": "python",
   "pygments_lexer": "ipython3",
   "version": "3.8.3"
  }
 },
 "nbformat": 4,
 "nbformat_minor": 2
}