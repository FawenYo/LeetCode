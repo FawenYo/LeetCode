{
 "cells": [
  {
   "cell_type": "markdown",
   "metadata": {},
   "source": [
    "## Question\n",
    "\n",
    "Given a string `s`, return the longest palindromic substring in `s`.\n",
    "\n",
    "## Examples\n",
    "\n",
    "### Example 1:\n",
    "\n",
    "```shell\n",
    "Input: s = \"babad\"\n",
    "Output: \"bab\"\n",
    "Note: \"aba\" is also a valid answer.\n",
    "```\n",
    "\n",
    "### Example 2:\n",
    "\n",
    "```shell\n",
    "Input: s = \"cbbd\"\n",
    "Output: \"bb\"\n",
    "```\n",
    "\n",
    "### Example 3:\n",
    "\n",
    "```shell\n",
    "Input: s = \"a\"\n",
    "Output: \"a\"\n",
    "```\n",
    "\n",
    "### Example 4:\n",
    "\n",
    "```shell\n",
    "Input: s = \"ac\"\n",
    "Output: \"a\"\n",
    "```\n",
    "\n",
    "## Constraints\n",
    "\n",
    "* $1 \\leq s.length \\leq 1000$\n",
    "* $s$ consist of only digits and English letters (lower-case and/or upper-case)."
   ]
  },
  {
   "cell_type": "markdown",
   "metadata": {},
   "source": [
    "## Answer\n",
    "\n",
    "以 Question.3 基礎做修改，若遇到曾出現過的字就檢查是否為回文"
   ]
  },
  {
   "cell_type": "code",
   "execution_count": null,
   "metadata": {},
   "outputs": [],
   "source": [
    "class Solution:\n",
    "    def longestPalindrome(self, s: str) -> str:\n",
    "        used_characters = {}\n",
    "        longest_string = s[0]\n",
    "        for character_index, character in enumerate(s):\n",
    "            # Character has already appeared in string\n",
    "            if character in used_characters:\n",
    "                used_characters[character].append(character_index)\n",
    "                for history_index in used_characters[character]:\n",
    "                    sub_string = s[history_index : character_index + 1]\n",
    "                    if sub_string == sub_string[::-1]:\n",
    "                        longest_string = max(sub_string, longest_string, key=len)\n",
    "                        break\n",
    "            else:\n",
    "                # Record character's index\n",
    "                used_characters[character] = [character_index]\n",
    "        return longest_string\n"
   ]
  }
 ],
 "metadata": {
  "kernelspec": {
   "display_name": "Python 3",
   "language": "python",
   "name": "python3"
  },
  "language_info": {
   "codemirror_mode": {
    "name": "ipython",
    "version": 3
   },
   "file_extension": ".py",
   "mimetype": "text/x-python",
   "name": "python",
   "nbconvert_exporter": "python",
   "pygments_lexer": "ipython3",
   "version": "3.8.3"
  }
 },
 "nbformat": 4,
 "nbformat_minor": 2
}