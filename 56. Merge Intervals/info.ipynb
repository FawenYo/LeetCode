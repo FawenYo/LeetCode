{
 "metadata": {
  "language_info": {
   "codemirror_mode": {
    "name": "ipython",
    "version": 3
   },
   "file_extension": ".py",
   "mimetype": "text/x-python",
   "name": "python",
   "nbconvert_exporter": "python",
   "pygments_lexer": "ipython3",
   "version": 3
  },
  "orig_nbformat": 2
 },
 "nbformat": 4,
 "nbformat_minor": 2,
 "cells": [
  {
   "source": [
    "## Question\n",
    "\n",
    "Given an array&nbsp;of `` intervals ``&nbsp;where <code>intervals[i] = [start<sub>i</sub>, end<sub>i</sub>]</code>, merge all overlapping intervals, and return _an array of the non-overlapping intervals that cover all the intervals in the input_.\n",
    "\n",
    "&nbsp;\n",
    "\n",
    "__Example 1:__\n",
    "\n",
    "<pre>\n",
    "<strong>Input:</strong> intervals = [[1,3],[2,6],[8,10],[15,18]]\n",
    "<strong>Output:</strong> [[1,6],[8,10],[15,18]]\n",
    "<strong>Explanation:</strong> Since intervals [1,3] and [2,6] overlaps, merge them into [1,6].\n",
    "</pre>\n",
    "\n",
    "__Example 2:__\n",
    "\n",
    "<pre>\n",
    "<strong>Input:</strong> intervals = [[1,4],[4,5]]\n",
    "<strong>Output:</strong> [[1,5]]\n",
    "<strong>Explanation:</strong> Intervals [1,4] and [4,5] are considered overlapping.\n",
    "</pre>\n",
    "\n",
    "&nbsp;\n",
    "\n",
    "__Constraints:__\n",
    "\n",
    "* <code>1 &lt;= intervals.length &lt;= 10<sup>4</sup></code>\n",
    "* `` intervals[i].length == 2 ``\n",
    "* <code>0 &lt;= start<sub>i</sub> &lt;= end<sub>i</sub> &lt;= 10<sup>4</sup></code>"
   ],
   "cell_type": "markdown",
   "metadata": {}
  },
  {
   "source": [
    "## Answer\n",
    "\n",
    "先對 `internals` 做排序，再去檢查每一個 `start` 是否比前一個 `end` 小，如果是的話再重新算 `end` 就好"
   ],
   "cell_type": "markdown",
   "metadata": {}
  },
  {
   "cell_type": "code",
   "execution_count": null,
   "metadata": {},
   "outputs": [],
   "source": [
    "class Solution:\n",
    "    def merge(self, intervals: List[List[int]]) -> List[List[int]]:\n",
    "        if len(intervals) == 1:\n",
    "            return intervals\n",
    "        else:\n",
    "            result = []\n",
    "\n",
    "            intervals.sort()\n",
    "            temp_start, temp_end = intervals[0]\n",
    "            for start, end in intervals[1:]:\n",
    "                if start <= temp_end:\n",
    "                    temp_end = max(temp_end, end)\n",
    "                else:\n",
    "                    result.append([temp_start, temp_end])\n",
    "                    temp_start = start\n",
    "                    temp_end = end\n",
    "            result.append([temp_start, temp_end])\n",
    "            return result\n"
   ]
  }
 ]
}