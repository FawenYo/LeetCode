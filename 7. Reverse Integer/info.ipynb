{
 "cells": [
  {
   "cell_type": "markdown",
   "metadata": {},
   "source": [
    "## Question\n",
    "\n",
    "Given a signed 32-bit integer $x$, return $x$ with its digits reversed. If reversing $x$ causes the value to go outside the signed 32-bit integer range $[-2^{31}, 2^{31} - 1]$, then return $0$.\n",
    "\n",
    "**Assume the environment does not allow you to store 64-bit integers (signed or unsigned).**\n",
    "\n",
    "## Examples\n",
    "\n",
    "### Example 1:\n",
    "\n",
    "```shell\n",
    "Input: x = 123\n",
    "Output: 321\n",
    "```\n",
    "\n",
    "### Example 2:\n",
    "\n",
    "```shell\n",
    "Input: x = -123\n",
    "Output: -321\n",
    "```\n",
    "\n",
    "### Example 3:\n",
    "\n",
    "```shell\n",
    "Input: x = 120\n",
    "Output: 21\n",
    "```\n",
    "\n",
    "### Example 4:\n",
    "\n",
    "```shell\n",
    "Input: x = 0\n",
    "Output: 0\n",
    "```\n",
    "\n",
    "## Constraints:\n",
    "\n",
    "* $-2^{31} \\leq x \\leq 2^{31} - 1$"
   ]
  },
  {
   "cell_type": "markdown",
   "metadata": {},
   "source": [
    "## Answer\n",
    "\n",
    "將 $x$ 轉為 string 後反轉"
   ]
  },
  {
   "cell_type": "code",
   "execution_count": null,
   "metadata": {},
   "outputs": [],
   "source": [
    "class Solution:\n",
    "    def reverse(self, x: int) -> int:\n",
    "        input_data = str(x)\n",
    "        if \"-\" not in input_data:\n",
    "            # Directly reverse\n",
    "            result = input_data[::-1]\n",
    "        else:\n",
    "            # Find number part\n",
    "            number_part = input_data[1:]\n",
    "            # -reverse_number\n",
    "            result = f\"-{number_part[::-1]}\"\n",
    "        result = int(result)\n",
    "        if -(2 ** 31) < result < 2 ** 31 - 1:\n",
    "            return result\n",
    "        else:\n",
    "            return 0\n"
   ]
  }
 ],
 "metadata": {
  "kernelspec": {
   "display_name": "Python 3",
   "language": "python",
   "name": "python3"
  },
  "language_info": {
   "codemirror_mode": {
    "name": "ipython",
    "version": 3
   },
   "file_extension": ".py",
   "mimetype": "text/x-python",
   "name": "python",
   "nbconvert_exporter": "python",
   "pygments_lexer": "ipython3",
   "version": "3.8.3"
  }
 },
 "nbformat": 4,
 "nbformat_minor": 2
}