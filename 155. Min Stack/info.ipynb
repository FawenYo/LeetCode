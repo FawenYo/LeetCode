{
 "metadata": {
  "language_info": {
   "codemirror_mode": {
    "name": "ipython",
    "version": 3
   },
   "file_extension": ".py",
   "mimetype": "text/x-python",
   "name": "python",
   "nbconvert_exporter": "python",
   "pygments_lexer": "ipython3",
   "version": 3
  },
  "orig_nbformat": 2
 },
 "nbformat": 4,
 "nbformat_minor": 2,
 "cells": [
  {
   "source": [
    "## Question\n",
    "\n",
    "Design a stack that supports push, pop, top, and retrieving the minimum element in constant time.\n",
    "\n",
    "Implement the `` MinStack `` class:\n",
    "\n",
    "* `` MinStack() `` initializes the stack object.\n",
    "* `` void push(val) `` pushes the element `` val `` onto the stack.\n",
    "* `` void pop() `` removes the element on the top of the stack.\n",
    "* `` int top() `` gets the top element of the stack.\n",
    "* `` int getMin() `` retrieves the minimum element in the stack.\n",
    "\n",
    "&nbsp;\n",
    "\n",
    "__Example 1:__\n",
    "\n",
    "<pre>\n",
    "<strong>Input</strong>\n",
    "[\"MinStack\",\"push\",\"push\",\"push\",\"getMin\",\"pop\",\"top\",\"getMin\"]\n",
    "[[],[-2],[0],[-3],[],[],[],[]]\n",
    "\n",
    "<strong>Output</strong>\n",
    "[null,null,null,null,-3,null,0,-2]\n",
    "\n",
    "<strong>Explanation</strong>\n",
    "MinStack minStack = new MinStack();\n",
    "minStack.push(-2);\n",
    "minStack.push(0);\n",
    "minStack.push(-3);\n",
    "minStack.getMin(); // return -3\n",
    "minStack.pop();\n",
    "minStack.top();    // return 0\n",
    "minStack.getMin(); // return -2\n",
    "</pre>\n",
    "\n",
    "&nbsp;\n",
    "\n",
    "__Constraints:__\n",
    "\n",
    "* <code>-2<sup>31</sup> &lt;= val &lt;= 2<sup>31</sup> - 1</code>\n",
    "* Methods `` pop ``, `` top `` and `` getMin `` operations will always be called on __non-empty__ stacks.\n",
    "* At most <code>3 * 10<sup>4</sup></code> calls will be made to `` push ``, `` pop ``, `` top ``, and `` getMin ``."
   ],
   "cell_type": "markdown",
   "metadata": {}
  },
  {
   "cell_type": "code",
   "execution_count": null,
   "metadata": {},
   "outputs": [],
   "source": [
    "class MinStack:\n",
    "    def __init__(self):\n",
    "        \"\"\"\n",
    "        initialize your data structure here.\n",
    "        \"\"\"\n",
    "        self.stack = []\n",
    "        self.current_min = float(\"inf\")\n",
    "        self.previous_min = []\n",
    "\n",
    "    def push(self, val: int) -> None:\n",
    "        self.stack.append(val)\n",
    "\n",
    "        if val <= self.current_min:\n",
    "            self.previous_min.append(self.current_min)\n",
    "            self.current_min = val\n",
    "\n",
    "    def pop(self) -> None:\n",
    "        if self.stack[-1] == self.current_min:\n",
    "            self.current_min = self.previous_min.pop()\n",
    "\n",
    "        self.stack.pop()\n",
    "\n",
    "    def top(self) -> int:\n",
    "        return self.stack[-1]\n",
    "\n",
    "    def getMin(self) -> int:\n",
    "        return self.current_min\n"
   ]
  },
  {
   "source": [
    "## Answer\n",
    "\n",
    "本題可以透過新增一個 `previos_min` 的方法記錄前面一個最小值，如此一來就算被pop掉也能找到新的最小值"
   ],
   "cell_type": "markdown",
   "metadata": {}
  }
 ]
}