{
 "metadata": {
  "language_info": {
   "codemirror_mode": {
    "name": "ipython",
    "version": 3
   },
   "file_extension": ".py",
   "mimetype": "text/x-python",
   "name": "python",
   "nbconvert_exporter": "python",
   "pygments_lexer": "ipython3",
   "version": 3
  },
  "orig_nbformat": 2
 },
 "nbformat": 4,
 "nbformat_minor": 2,
 "cells": [
  {
   "source": [
    "## Question\n",
    "\n",
    "Given a string `s`, find the length of the **longest substring** without repeating characters.\n",
    "\n",
    "## Examples\n",
    "\n",
    "### Example 1:\n",
    "\n",
    "```shell\n",
    "Input: s = \"abcabcbb\"\n",
    "Output: 3\n",
    "Explanation: The answer is \"abc\", with the length of 3.\n",
    "```\n",
    "\n",
    "### Example 2:\n",
    "\n",
    "```shell\n",
    "Input: s = \"bbbbb\"\n",
    "Output: 1\n",
    "Explanation: The answer is \"b\", with the length of 1.\n",
    "```\n",
    "\n",
    "### Example 3:\n",
    "\n",
    "```shell\n",
    "Input: s = \"pwwkew\"\n",
    "Output: 3\n",
    "Explanation: The answer is \"wke\", with the length of 3.\n",
    "Notice that the answer must be a substring, \"pwke\" is a subsequence and not a substring.\n",
    "```\n",
    "\n",
    "### Example 4:\n",
    "\n",
    "```shell\n",
    "Input: s = \"\"\n",
    "Output: 0\n",
    "```\n",
    "\n",
    "## Constraints\n",
    "\n",
    "* $0 \\leq s.length \\leq 5 * 10^4$\n",
    "* $s$ consists of English letters, digits, symbols and spaces."
   ],
   "cell_type": "markdown",
   "metadata": {}
  },
  {
   "source": [
    "## Answer\n",
    "\n",
    "遇到曾經出現過的字時將start往右移 (ex. s=\"abbcdefa\")"
   ],
   "cell_type": "markdown",
   "metadata": {}
  },
  {
   "cell_type": "code",
   "execution_count": null,
   "metadata": {},
   "outputs": [],
   "source": [
    "class Solution:\n",
    "    def lengthOfLongestSubstring(self, s: str) -> int:\n",
    "        used_characters = {}\n",
    "        max_length = start = 0\n",
    "        for character_index, character in enumerate(s):\n",
    "            # start <= used_characters[character] to prevent start move back to left\n",
    "            if character in used_characters and start <= used_characters[character]:\n",
    "                # Move start to character's previous index\n",
    "                start = used_characters[character] + 1\n",
    "            else:\n",
    "                # Update max length\n",
    "                max_length = max(max_length, character_index - start + 1)\n",
    "            # Record character's last index\n",
    "            used_characters[character] = character_index\n",
    "        return max_length\n"
   ]
  }
 ]
}