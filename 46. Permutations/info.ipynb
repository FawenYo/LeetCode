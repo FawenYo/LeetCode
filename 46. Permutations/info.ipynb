{
 "cells": [
  {
   "cell_type": "markdown",
   "metadata": {},
   "source": [
    "## Question\n",
    "\n",
    "Given an array `` nums `` of distinct integers, return _all the possible permutations_. You can return the answer in __any order__.\n",
    "\n",
    "&nbsp;\n",
    "\n",
    "__Example 1:__\n",
    "\n",
    "<pre><strong>Input:</strong> nums = [1,2,3]\n",
    "<strong>Output:</strong> [[1,2,3],[1,3,2],[2,1,3],[2,3,1],[3,1,2],[3,2,1]]\n",
    "</pre>\n",
    "\n",
    "__Example 2:__\n",
    "\n",
    "<pre><strong>Input:</strong> nums = [0,1]\n",
    "<strong>Output:</strong> [[0,1],[1,0]]\n",
    "</pre>\n",
    "\n",
    "__Example 3:__\n",
    "\n",
    "<pre><strong>Input:</strong> nums = [1]\n",
    "<strong>Output:</strong> [[1]]\n",
    "</pre>\n",
    "\n",
    "&nbsp;\n",
    "\n",
    "__Constraints:__\n",
    "\n",
    "* <code> 1 &lt;= nums.length &lt;= 6 </code>\n",
    "* <code> -10 &lt;= nums[i] &lt;= 10 </code>\n",
    "* All the integers of `` nums `` are __unique__."
   ]
  },
  {
   "cell_type": "markdown",
   "metadata": {},
   "source": [
    "## Answer\n",
    "\n",
    "使用DFS演算法解題，走到底時其路徑便是答案。"
   ]
  },
  {
   "cell_type": "code",
   "execution_count": null,
   "metadata": {},
   "outputs": [],
   "source": [
    "class Solution:\n",
    "    def permute(self, nums: List[int]) -> List[List[int]]:\n",
    "        result = self.dfs(nums=nums, path=[], result=[])\n",
    "        return result\n",
    "\n",
    "    def dfs(self, nums, path, result):\n",
    "        # Deepest\n",
    "        if not nums:\n",
    "            result.append(path)\n",
    "\n",
    "        for i in range(len(nums)):\n",
    "            # Except for current num\n",
    "            new_nums = nums[:i] + nums[i + 1 :]\n",
    "            # Add current num to path\n",
    "            new_path = path + [nums[i]]\n",
    "            self.dfs(nums=new_nums, path=new_path, result=result)\n",
    "        return result\n",
    "  "
   ]
  }
 ],
 "metadata": {
  "kernelspec": {
   "display_name": "Python 3",
   "language": "python",
   "name": "python3"
  },
  "language_info": {
   "codemirror_mode": {
    "name": "ipython",
    "version": 3
   },
   "file_extension": ".py",
   "mimetype": "text/x-python",
   "name": "python",
   "nbconvert_exporter": "python",
   "pygments_lexer": "ipython3",
   "version": "3.8.3"
  }
 },
 "nbformat": 4,
 "nbformat_minor": 2
}
